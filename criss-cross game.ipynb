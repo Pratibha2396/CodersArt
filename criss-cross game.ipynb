{
 "cells": [
  {
   "cell_type": "code",
   "execution_count": 1,
   "metadata": {},
   "outputs": [],
   "source": [
    "import random"
   ]
  },
  {
   "cell_type": "markdown",
   "metadata": {},
   "source": [
    "# **Functions:**"
   ]
  },
  {
   "cell_type": "markdown",
   "metadata": {},
   "source": [
    "**guess_index_tuple** contains pair of indices to make guess slices in the word.\n",
    "The selection of tuples is based on the word length.\n",
    "If the word length is 6 then guess_index_tuple[0] is selected and so on upto word length 9."
   ]
  },
  {
   "cell_type": "code",
   "execution_count": 2,
   "metadata": {},
   "outputs": [],
   "source": [
    "guess_index_tuple=(((0,1),(2,4),(2,4),(3,5),(2,5),(0,5)),\n",
    "                   ((0,1),(1,2),(4,6),(2,5),(3,6),(2,6),(0,6)),\n",
    "                   ((0,1),(1,3),(4,7),(3,5),(3,6),(5,7),(2,7),(0,7)),\n",
    "                   ((0,1),(1,3),(4,7),(3,5),(3,6),(5,7),(3,7),(2,8),(0,8)))"
   ]
  },
  {
   "cell_type": "markdown",
   "metadata": {},
   "source": [
    "Given the **word select** is either **\"FIXED\"** or **\"ARBITRARY\"** this function will return a string randomly\n",
    "selected from **WORDS FIXED.txt** or **WORDS ARBITRARY.txt** respectively. If word select is anything\n",
    "other then the expected input then this function should return None."
   ]
  },
  {
   "cell_type": "code",
   "execution_count": null,
   "metadata": {},
   "outputs": [],
   "source": [
    "#def select_word_at_random(word_select):\n",
    "    #if word_select=='FIXED' or word_select=='ARBITRARY':\n",
    "        #with open(f\"WORDS_{word_select}.txt\",\"r\") as file:\n",
    "            #file_contents=file.read()\n",
    "        #words=file_contents.splitlines()\n",
    "        #words_tuple=tuple(words)\n",
    "        #word=random.choice(words_tuple)\n",
    "        #return word\n",
    "    #else:\n",
    "        #return None \n",
    "    "
   ]
  },
  {
   "cell_type": "code",
   "execution_count": 3,
   "metadata": {},
   "outputs": [],
   "source": [
    "def select_word_at_random(a):\n",
    "    if a=='FIXED':\n",
    "        WORDS=['absolute','abstract','academic','accepted','accident','accuracy','accurate','achieved']\n",
    "        word=random.choice(WORDS)\n",
    "    elif a=='ARBITRARY':\n",
    "        WORDS=['birses','births','chariot','charism','performed','rearrange','sequelize']\n",
    "        word=random.choice(WORDS)\n",
    "    else:\n",
    "        return None \n",
    "    \n",
    "    return word"
   ]
  },
  {
   "cell_type": "markdown",
   "metadata": {},
   "source": [
    "The function **create_guess_line** returns the string representing the display corresponding to the guess number integer, guess no."
   ]
  },
  {
   "cell_type": "code",
   "execution_count": 4,
   "metadata": {},
   "outputs": [],
   "source": [
    "def create_guess_line(guess_no,word_length):\n",
    "    grid=['| - ']*word_length\n",
    "    a,b=guess_index[guess_no-1]\n",
    "    for i in range(a,b+1):\n",
    "        grid[i]='| * '\n",
    "    guess_line='Guess {}'.format(guess_no)+\"\".join(grid)+'|'\n",
    "    \n",
    "    \n",
    "    return guess_line"
   ]
  },
  {
   "cell_type": "markdown",
   "metadata": {},
   "source": [
    "The function **display_guess_matrix** prints the progress of the game. This includes all line strings for guesses up to guess no with\n",
    "their corresponding scores (a tuple containing all previous scores), and the line string for guess no (without\n",
    "a score)."
   ]
  },
  {
   "cell_type": "code",
   "execution_count": 5,
   "metadata": {},
   "outputs": [],
   "source": [
    "def display_guess_matrix(guess_no, word_length,score=(0)):\n",
    "    \n",
    "    line=[]\n",
    "    for i in range(1,word_length+1):\n",
    "        line+=str(i)+' | '\n",
    "    print('         '+ \"\".join(line))\n",
    "    print('------------------------------------------')\n",
    "    for j in range(1,guess_no+1):  \n",
    "        if j<guess_no:\n",
    "            print(create_guess_line(j,word_length)+' {} Points'.format(score[j-1])+'\\n------------------------------------------')\n",
    "        else:\n",
    "            print(create_guess_line(j,word_length)+'\\n------------------------------------------')"
   ]
  },
  {
   "cell_type": "markdown",
   "metadata": {},
   "source": [
    "The function **compute_value_for_guess** returns the score, an integer, the player is awarded for a specific guess. The word is a string representing the word the player has to guess. The substring to be guessed is determined by the start index and end index.The substring is created by slicing the word from the start index up to and including the end index. The guess is a string representing the guess attempt the player has made.\n",
    "\n",
    "Following is the rule which is used to calculate the program:\n",
    "Each vowel guessed in the correct position gets 14 points. Each consonant guessed in the correct position gets 12 points. Each letter guessed correctly but in the wrong position within the substring gets 5 points."
   ]
  },
  {
   "cell_type": "code",
   "execution_count": 6,
   "metadata": {},
   "outputs": [],
   "source": [
    "def compute_value_for_guess(word, start_index,end_index, guess):\n",
    "    score=0\n",
    "    w=word[start_index:end_index+1]\n",
    "    for i in range(0,len(w)):\n",
    "        if guess[i] in 'aeiou' and guess[i]==w[i]:\n",
    "            score+=14\n",
    "        elif guess[i] in 'aeiou' and guess[i] in w:\n",
    "            score+=5\n",
    "        elif guess[i] not in 'aeiou' and guess[i]==w[i]:\n",
    "            score+=12\n",
    "        elif guess[i] not in 'aeiou' and guess[i] in w:\n",
    "            score+=5\n",
    "    return score"
   ]
  },
  {
   "cell_type": "markdown",
   "metadata": {},
   "source": [
    "# The Game "
   ]
  },
  {
   "cell_type": "code",
   "execution_count": 7,
   "metadata": {
    "scrolled": true
   },
   "outputs": [
    {
     "name": "stdout",
     "output_type": "stream",
     "text": [
      "Welcome to the Criss-Cross Multi-Step Word Guessing Game! \n",
      "\n",
      "Enter an input action. Choices are:\n",
      "s - start game \n",
      "h - get help on game rules\n",
      "q - quit game:h\n",
      "\n",
      "Game rules - You have to guess letters in place of the asterixis.\n",
      "Each vowel guessed in the correct position gets 14 points.\n",
      "Each consonant guessed in the correct position gets 12 points.\n",
      "Each letter guessed correctly but in the wrong position gets 5 points.\n",
      "If the true letters were \"dog\", say, and you guessed \"hod\",\n",
      "you would score 14 points for guessing the vowel, \"o\", in the\n",
      "correct position and 5 points for guessing \"d\" correctly, but in the\n",
      "incorrect position. Your score would therefore be 19 points.\n",
      "\n",
      "Do you want a 'FIXED' or 'ARBITRARY' word length?FIXED\n",
      "Now try and guess the word step by step!!\n",
      "         1 | 2 | 3 | 4 | 5 | 6 | 7 | 8 | \n",
      "------------------------------------------\n",
      "Guess 1| * | * | - | - | - | - | - | - |\n",
      "------------------------------------------\n",
      "None\n",
      "\n",
      "Now enter Guess 1\n",
      "AC\n",
      "         1 | 2 | 3 | 4 | 5 | 6 | 7 | 8 | \n",
      "------------------------------------------\n",
      "Guess 1| * | * | - | - | - | - | - | - | 26 Points\n",
      "------------------------------------------\n",
      "Guess 2| - | * | * | * | - | - | - | - |\n",
      "------------------------------------------\n",
      "None\n",
      "\n",
      "Now enter Guess 2\n",
      "ccu\n",
      "         1 | 2 | 3 | 4 | 5 | 6 | 7 | 8 | \n",
      "------------------------------------------\n",
      "Guess 1| * | * | - | - | - | - | - | - | 26 Points\n",
      "------------------------------------------\n",
      "Guess 2| - | * | * | * | - | - | - | - | 24 Points\n",
      "------------------------------------------\n",
      "Guess 3| - | - | - | - | * | * | * | * |\n",
      "------------------------------------------\n",
      "None\n",
      "\n",
      "Now enter Guess 3\n",
      "ieve\n",
      "         1 | 2 | 3 | 4 | 5 | 6 | 7 | 8 | \n",
      "------------------------------------------\n",
      "Guess 1| * | * | - | - | - | - | - | - | 26 Points\n",
      "------------------------------------------\n",
      "Guess 2| - | * | * | * | - | - | - | - | 24 Points\n",
      "------------------------------------------\n",
      "Guess 3| - | - | - | - | * | * | * | * | 10 Points\n",
      "------------------------------------------\n",
      "Guess 4| - | - | - | * | * | * | - | - |\n",
      "------------------------------------------\n",
      "None\n",
      "\n",
      "Now enter Guess 4\n",
      "dem\n",
      "         1 | 2 | 3 | 4 | 5 | 6 | 7 | 8 | \n",
      "------------------------------------------\n",
      "Guess 1| * | * | - | - | - | - | - | - | 26 Points\n",
      "------------------------------------------\n",
      "Guess 2| - | * | * | * | - | - | - | - | 24 Points\n",
      "------------------------------------------\n",
      "Guess 3| - | - | - | - | * | * | * | * | 10 Points\n",
      "------------------------------------------\n",
      "Guess 4| - | - | - | * | * | * | - | - | 5 Points\n",
      "------------------------------------------\n",
      "Guess 5| - | - | - | * | * | * | * | - |\n",
      "------------------------------------------\n",
      "None\n",
      "\n",
      "Now enter Guess 5\n",
      "stra\n",
      "         1 | 2 | 3 | 4 | 5 | 6 | 7 | 8 | \n",
      "------------------------------------------\n",
      "Guess 1| * | * | - | - | - | - | - | - | 26 Points\n",
      "------------------------------------------\n",
      "Guess 2| - | * | * | * | - | - | - | - | 24 Points\n",
      "------------------------------------------\n",
      "Guess 3| - | - | - | - | * | * | * | * | 10 Points\n",
      "------------------------------------------\n",
      "Guess 4| - | - | - | * | * | * | - | - | 5 Points\n",
      "------------------------------------------\n",
      "Guess 5| - | - | - | * | * | * | * | - | 5 Points\n",
      "------------------------------------------\n",
      "Guess 6| - | - | - | - | - | * | * | * |\n",
      "------------------------------------------\n",
      "None\n",
      "\n",
      "Now enter Guess 6\n",
      "vde\n",
      "         1 | 2 | 3 | 4 | 5 | 6 | 7 | 8 | \n",
      "------------------------------------------\n",
      "Guess 1| * | * | - | - | - | - | - | - | 26 Points\n",
      "------------------------------------------\n",
      "Guess 2| - | * | * | * | - | - | - | - | 24 Points\n",
      "------------------------------------------\n",
      "Guess 3| - | - | - | - | * | * | * | * | 10 Points\n",
      "------------------------------------------\n",
      "Guess 4| - | - | - | * | * | * | - | - | 5 Points\n",
      "------------------------------------------\n",
      "Guess 5| - | - | - | * | * | * | * | - | 5 Points\n",
      "------------------------------------------\n",
      "Guess 6| - | - | - | - | - | * | * | * | 10 Points\n",
      "------------------------------------------\n",
      "Guess 7| - | - | * | * | * | * | * | * |\n",
      "------------------------------------------\n",
      "None\n",
      "\n",
      "Now enter Guess 7\n",
      "chieve\n",
      "         1 | 2 | 3 | 4 | 5 | 6 | 7 | 8 | \n",
      "------------------------------------------\n",
      "Guess 1| * | * | - | - | - | - | - | - | 26 Points\n",
      "------------------------------------------\n",
      "Guess 2| - | * | * | * | - | - | - | - | 24 Points\n",
      "------------------------------------------\n",
      "Guess 3| - | - | - | - | * | * | * | * | 10 Points\n",
      "------------------------------------------\n",
      "Guess 4| - | - | - | * | * | * | - | - | 5 Points\n",
      "------------------------------------------\n",
      "Guess 5| - | - | - | * | * | * | * | - | 5 Points\n",
      "------------------------------------------\n",
      "Guess 6| - | - | - | - | - | * | * | * | 10 Points\n",
      "------------------------------------------\n",
      "Guess 7| - | - | * | * | * | * | * | * | 22 Points\n",
      "------------------------------------------\n",
      "Guess 8| * | * | * | * | * | * | * | * |\n",
      "------------------------------------------\n",
      "None\n",
      "\n",
      "Now enter your final guess i.e. the whole word\n",
      "achieved\n",
      "\n",
      "Your guess was wrong. The correct word was accepted\n"
     ]
    }
   ],
   "source": [
    "print(\"Welcome to the Criss-Cross Multi-Step Word Guessing Game! \")\n",
    "\n",
    "# Ask the user for the input. \n",
    "# If the input is not 's','h','q', keep asking unti correct input is given.\n",
    "# If 's' or 'h' are the input then start with the game, if 'q' is the input then quit. \n",
    "# Also if 'h' is selected then print the help text.\n",
    "\n",
    "while True:\n",
    "   \n",
    "    try:\n",
    "        inp=input('\\nEnter an input action. Choices are:\\ns - start game \\nh - get help on game rules\\nq - quit game:')\n",
    "        action=str(inp).lower()\n",
    "        if action=='s'or action=='h'or action=='q':\n",
    "            if action=='h':\n",
    "                print(\"\\nGame rules - You have to guess letters in place of the asterixis.\"\n",
    "                    +\"\\nEach vowel guessed in the correct position gets 14 points.\"\n",
    "                    +\"\\nEach consonant guessed in the correct position gets 12 points.\"\n",
    "                    +\"\\nEach letter guessed correctly but in the wrong position gets 5 points.\"\n",
    "                    +\"\\nIf the true letters were \\\"dog\\\", say, and you guessed \\\"hod\\\",\"\n",
    "                    +\"\\nyou would score 14 points for guessing the vowel, \\\"o\\\", in the\"\n",
    "                    +\"\\ncorrect position and 5 points for guessing \\\"d\\\" correctly, but in the\"\n",
    "                    +\"\\nincorrect position. Your score would therefore be 19 points.\")\n",
    "                       \n",
    "            break\n",
    "        print(\"\\nPlease enter a valid command\")\n",
    "        \n",
    "    \n",
    "    except Exception as e:\n",
    "        print(e) \n",
    "\n",
    "        \n",
    "if action=='s' or action=='h':\n",
    "    \n",
    "    # Ask the user whether they want \"FIXED\" or \"ARBITRARY\" length of word. The input should be uppercase only. If\n",
    "    # not then keep asking untill the input is correct.\n",
    "    while True:\n",
    "    \n",
    "        try:\n",
    "            word_select=str(input('\\nDo you want a \\'FIXED\\' or \\'ARBITRARY\\' word length?'))\n",
    "            if word_select=='FIXED'or word_select=='ARBITRARY':\n",
    "                break  \n",
    "        except Exception as e:\n",
    "            print(e) \n",
    "\n",
    "            \n",
    "    # select a random word and calculate its length in word_length    \n",
    "    word=select_word_at_random(word_select)\n",
    "    word_length=len(word)\n",
    "    \n",
    "    \n",
    "    # Determine the guess slice sequence from guess_index_tuple based on word_length.\n",
    "    if word_length==6:\n",
    "        guess_index=guess_index_tuple[0]\n",
    "    elif word_length==7:\n",
    "        guess_index=guess_index_tuple[1]\n",
    "    elif word_length==8:\n",
    "        guess_index=guess_index_tuple[2]\n",
    "    else:\n",
    "        guess_index=guess_index_tuple[3]\n",
    "\n",
    "\n",
    "    print('Now try and guess the word step by step!!')\n",
    "\n",
    "    guess_no=1\n",
    "    score_list=[]\n",
    "    scores=()\n",
    "\n",
    "    while guess_no<word_length+1:\n",
    "        \n",
    "        # Display the guess_matrix\n",
    "        print(display_guess_matrix(guess_no,word_length,scores))\n",
    "    \n",
    "        # Ask user to enter his/her guess. The guess length should be equal to the number of asterixis.\n",
    "        # If not promt user to enter the same number of characters as the aterixis repeatedly.\n",
    "        while guess_no<word_length:\n",
    "            try:\n",
    "            \n",
    "                inp2=input('\\nNow enter Guess {}\\n'.format(guess_no))\n",
    "                guess=str(inp2).lower()\n",
    "                start_index,end_index=guess_index[guess_no-1]\n",
    "            \n",
    "                # Check whether the lentgh of guess is equal to the length of the guess slice (i.e. the length of asterixis\n",
    "                # in the guess line)\n",
    "                if len(guess)==(end_index-start_index+1):\n",
    "                    # Compute the score for each guess and store all the score values in a tuple named 'scores'\n",
    "                    scr=compute_value_for_guess(word,start_index,end_index,guess)\n",
    "                    score_list.append(scr)\n",
    "                    scores= tuple(score_list)\n",
    "                \n",
    "                    break\n",
    "                print(\"\\nPlease enter the same length of string as there are \\'*\\'\")\n",
    "            \n",
    "            except Exception as e:\n",
    "                print(e)\n",
    "            \n",
    "        # For the last guess ask user to guess the entire word and tell whether they were correct or not.\n",
    "        if guess_no==8:\n",
    "            inp3=input(\"\\nNow enter your final guess i.e. the whole word\\n\")\n",
    "            final_word=str(inp3).lower()\n",
    "            if final_word==word:\n",
    "                print(\"\\nYou have guessed the word correctly. Congratulations\")\n",
    "            else:\n",
    "                print(\"\\nYour guess was wrong. The correct word was {}\".format(word))\n",
    "            \n",
    "    \n",
    "        # Incrementing the guess_no for another iteration\n",
    "        guess_no+=1\n",
    "else:\n",
    "    print('Game Exited!!')\n",
    "     \n",
    "     \n",
    "\n",
    "    "
   ]
  },
  {
   "cell_type": "markdown",
   "metadata": {},
   "source": [
    "# Check the output of the functions"
   ]
  },
  {
   "cell_type": "code",
   "execution_count": 8,
   "metadata": {},
   "outputs": [
    {
     "data": {
      "text/plain": [
       "'Guess 2| - | * | * | * | - | - | - | - |'"
      ]
     },
     "execution_count": 8,
     "metadata": {},
     "output_type": "execute_result"
    }
   ],
   "source": [
    "create_guess_line(2,8)"
   ]
  },
  {
   "cell_type": "code",
   "execution_count": 9,
   "metadata": {},
   "outputs": [
    {
     "name": "stdout",
     "output_type": "stream",
     "text": [
      "         1 | 2 | 3 | 4 | 5 | 6 | 7 | 8 | \n",
      "------------------------------------------\n",
      "Guess 1| * | * | - | - | - | - | - | - | 26 Points\n",
      "------------------------------------------\n",
      "Guess 2| - | * | * | * | - | - | - | - | 10 Points\n",
      "------------------------------------------\n",
      "Guess 3| - | - | - | - | * | * | * | * |\n",
      "------------------------------------------\n",
      "None\n"
     ]
    }
   ],
   "source": [
    "print(display_guess_matrix(3,8,(26,10)))"
   ]
  },
  {
   "cell_type": "code",
   "execution_count": 10,
   "metadata": {},
   "outputs": [
    {
     "data": {
      "text/plain": [
       "10"
      ]
     },
     "execution_count": 10,
     "metadata": {},
     "output_type": "execute_result"
    }
   ],
   "source": [
    "compute_value_for_guess('crushing', 3, 5, 'bsh')"
   ]
  },
  {
   "cell_type": "code",
   "execution_count": null,
   "metadata": {},
   "outputs": [],
   "source": []
  }
 ],
 "metadata": {
  "kernelspec": {
   "display_name": "Python 3",
   "language": "python",
   "name": "python3"
  },
  "language_info": {
   "codemirror_mode": {
    "name": "ipython",
    "version": 3
   },
   "file_extension": ".py",
   "mimetype": "text/x-python",
   "name": "python",
   "nbconvert_exporter": "python",
   "pygments_lexer": "ipython3",
   "version": "3.7.4"
  }
 },
 "nbformat": 4,
 "nbformat_minor": 2
}
