{
 "cells": [
  {
   "cell_type": "markdown",
   "metadata": {},
   "source": [
    "# Ridge regression\n",
    "\n",
    "We will implement Ridge Regression to the widely known data set Boston House Price to look into the properties of the regression method. We should standardize the scale for the assumption of Ridge Regression."
   ]
  },
  {
   "cell_type": "code",
   "execution_count": 1,
   "metadata": {},
   "outputs": [],
   "source": [
    "import numpy as np\n",
    "import pandas as pd\n",
    "import matplotlib.pyplot as plt\n",
    "import matplotlib.ticker as ticker\n",
    "\n",
    "from sklearn.datasets import load_boston\n",
    "from sklearn import preprocessing\n",
    "from sklearn.model_selection import train_test_split, GridSearchCV\n",
    "from sklearn.metrics import r2_score, mean_squared_error\n",
    "from sklearn.linear_model import LinearRegression, Ridge"
   ]
  },
  {
   "cell_type": "markdown",
   "metadata": {},
   "source": [
    "# Example 1"
   ]
  },
  {
   "cell_type": "code",
   "execution_count": 2,
   "metadata": {},
   "outputs": [],
   "source": [
    "# helper function to calculate performance measure\n",
    "def performance_measure(y_true,y_pred):\n",
    "    \n",
    "    mse=mean_squared_error(y_true,y_pred)\n",
    "    r2=r2_score(y_true,y_pred)\n",
    "   \n",
    "    return mse,r2"
   ]
  },
  {
   "cell_type": "markdown",
   "metadata": {},
   "source": [
    "The dataset is available in scikit-learn library."
   ]
  },
  {
   "cell_type": "code",
   "execution_count": 3,
   "metadata": {},
   "outputs": [
    {
     "data": {
      "text/html": [
       "<div>\n",
       "<style scoped>\n",
       "    .dataframe tbody tr th:only-of-type {\n",
       "        vertical-align: middle;\n",
       "    }\n",
       "\n",
       "    .dataframe tbody tr th {\n",
       "        vertical-align: top;\n",
       "    }\n",
       "\n",
       "    .dataframe thead th {\n",
       "        text-align: right;\n",
       "    }\n",
       "</style>\n",
       "<table border=\"1\" class=\"dataframe\">\n",
       "  <thead>\n",
       "    <tr style=\"text-align: right;\">\n",
       "      <th></th>\n",
       "      <th>CRIM</th>\n",
       "      <th>ZN</th>\n",
       "      <th>INDUS</th>\n",
       "      <th>CHAS</th>\n",
       "      <th>NOX</th>\n",
       "      <th>RM</th>\n",
       "      <th>AGE</th>\n",
       "      <th>DIS</th>\n",
       "      <th>RAD</th>\n",
       "      <th>TAX</th>\n",
       "      <th>PTRATIO</th>\n",
       "      <th>B</th>\n",
       "      <th>LSTAT</th>\n",
       "      <th>PRICE</th>\n",
       "    </tr>\n",
       "  </thead>\n",
       "  <tbody>\n",
       "    <tr>\n",
       "      <th>0</th>\n",
       "      <td>0.00632</td>\n",
       "      <td>18.0</td>\n",
       "      <td>2.31</td>\n",
       "      <td>0.0</td>\n",
       "      <td>0.538</td>\n",
       "      <td>6.575</td>\n",
       "      <td>65.2</td>\n",
       "      <td>4.0900</td>\n",
       "      <td>1.0</td>\n",
       "      <td>296.0</td>\n",
       "      <td>15.3</td>\n",
       "      <td>396.90</td>\n",
       "      <td>4.98</td>\n",
       "      <td>24.0</td>\n",
       "    </tr>\n",
       "    <tr>\n",
       "      <th>1</th>\n",
       "      <td>0.02731</td>\n",
       "      <td>0.0</td>\n",
       "      <td>7.07</td>\n",
       "      <td>0.0</td>\n",
       "      <td>0.469</td>\n",
       "      <td>6.421</td>\n",
       "      <td>78.9</td>\n",
       "      <td>4.9671</td>\n",
       "      <td>2.0</td>\n",
       "      <td>242.0</td>\n",
       "      <td>17.8</td>\n",
       "      <td>396.90</td>\n",
       "      <td>9.14</td>\n",
       "      <td>21.6</td>\n",
       "    </tr>\n",
       "    <tr>\n",
       "      <th>2</th>\n",
       "      <td>0.02729</td>\n",
       "      <td>0.0</td>\n",
       "      <td>7.07</td>\n",
       "      <td>0.0</td>\n",
       "      <td>0.469</td>\n",
       "      <td>7.185</td>\n",
       "      <td>61.1</td>\n",
       "      <td>4.9671</td>\n",
       "      <td>2.0</td>\n",
       "      <td>242.0</td>\n",
       "      <td>17.8</td>\n",
       "      <td>392.83</td>\n",
       "      <td>4.03</td>\n",
       "      <td>34.7</td>\n",
       "    </tr>\n",
       "    <tr>\n",
       "      <th>3</th>\n",
       "      <td>0.03237</td>\n",
       "      <td>0.0</td>\n",
       "      <td>2.18</td>\n",
       "      <td>0.0</td>\n",
       "      <td>0.458</td>\n",
       "      <td>6.998</td>\n",
       "      <td>45.8</td>\n",
       "      <td>6.0622</td>\n",
       "      <td>3.0</td>\n",
       "      <td>222.0</td>\n",
       "      <td>18.7</td>\n",
       "      <td>394.63</td>\n",
       "      <td>2.94</td>\n",
       "      <td>33.4</td>\n",
       "    </tr>\n",
       "    <tr>\n",
       "      <th>4</th>\n",
       "      <td>0.06905</td>\n",
       "      <td>0.0</td>\n",
       "      <td>2.18</td>\n",
       "      <td>0.0</td>\n",
       "      <td>0.458</td>\n",
       "      <td>7.147</td>\n",
       "      <td>54.2</td>\n",
       "      <td>6.0622</td>\n",
       "      <td>3.0</td>\n",
       "      <td>222.0</td>\n",
       "      <td>18.7</td>\n",
       "      <td>396.90</td>\n",
       "      <td>5.33</td>\n",
       "      <td>36.2</td>\n",
       "    </tr>\n",
       "    <tr>\n",
       "      <th>5</th>\n",
       "      <td>0.02985</td>\n",
       "      <td>0.0</td>\n",
       "      <td>2.18</td>\n",
       "      <td>0.0</td>\n",
       "      <td>0.458</td>\n",
       "      <td>6.430</td>\n",
       "      <td>58.7</td>\n",
       "      <td>6.0622</td>\n",
       "      <td>3.0</td>\n",
       "      <td>222.0</td>\n",
       "      <td>18.7</td>\n",
       "      <td>394.12</td>\n",
       "      <td>5.21</td>\n",
       "      <td>28.7</td>\n",
       "    </tr>\n",
       "    <tr>\n",
       "      <th>6</th>\n",
       "      <td>0.08829</td>\n",
       "      <td>12.5</td>\n",
       "      <td>7.87</td>\n",
       "      <td>0.0</td>\n",
       "      <td>0.524</td>\n",
       "      <td>6.012</td>\n",
       "      <td>66.6</td>\n",
       "      <td>5.5605</td>\n",
       "      <td>5.0</td>\n",
       "      <td>311.0</td>\n",
       "      <td>15.2</td>\n",
       "      <td>395.60</td>\n",
       "      <td>12.43</td>\n",
       "      <td>22.9</td>\n",
       "    </tr>\n",
       "    <tr>\n",
       "      <th>7</th>\n",
       "      <td>0.14455</td>\n",
       "      <td>12.5</td>\n",
       "      <td>7.87</td>\n",
       "      <td>0.0</td>\n",
       "      <td>0.524</td>\n",
       "      <td>6.172</td>\n",
       "      <td>96.1</td>\n",
       "      <td>5.9505</td>\n",
       "      <td>5.0</td>\n",
       "      <td>311.0</td>\n",
       "      <td>15.2</td>\n",
       "      <td>396.90</td>\n",
       "      <td>19.15</td>\n",
       "      <td>27.1</td>\n",
       "    </tr>\n",
       "    <tr>\n",
       "      <th>8</th>\n",
       "      <td>0.21124</td>\n",
       "      <td>12.5</td>\n",
       "      <td>7.87</td>\n",
       "      <td>0.0</td>\n",
       "      <td>0.524</td>\n",
       "      <td>5.631</td>\n",
       "      <td>100.0</td>\n",
       "      <td>6.0821</td>\n",
       "      <td>5.0</td>\n",
       "      <td>311.0</td>\n",
       "      <td>15.2</td>\n",
       "      <td>386.63</td>\n",
       "      <td>29.93</td>\n",
       "      <td>16.5</td>\n",
       "    </tr>\n",
       "    <tr>\n",
       "      <th>9</th>\n",
       "      <td>0.17004</td>\n",
       "      <td>12.5</td>\n",
       "      <td>7.87</td>\n",
       "      <td>0.0</td>\n",
       "      <td>0.524</td>\n",
       "      <td>6.004</td>\n",
       "      <td>85.9</td>\n",
       "      <td>6.5921</td>\n",
       "      <td>5.0</td>\n",
       "      <td>311.0</td>\n",
       "      <td>15.2</td>\n",
       "      <td>386.71</td>\n",
       "      <td>17.10</td>\n",
       "      <td>18.9</td>\n",
       "    </tr>\n",
       "  </tbody>\n",
       "</table>\n",
       "</div>"
      ],
      "text/plain": [
       "      CRIM    ZN  INDUS  CHAS    NOX     RM    AGE     DIS  RAD    TAX  \\\n",
       "0  0.00632  18.0   2.31   0.0  0.538  6.575   65.2  4.0900  1.0  296.0   \n",
       "1  0.02731   0.0   7.07   0.0  0.469  6.421   78.9  4.9671  2.0  242.0   \n",
       "2  0.02729   0.0   7.07   0.0  0.469  7.185   61.1  4.9671  2.0  242.0   \n",
       "3  0.03237   0.0   2.18   0.0  0.458  6.998   45.8  6.0622  3.0  222.0   \n",
       "4  0.06905   0.0   2.18   0.0  0.458  7.147   54.2  6.0622  3.0  222.0   \n",
       "5  0.02985   0.0   2.18   0.0  0.458  6.430   58.7  6.0622  3.0  222.0   \n",
       "6  0.08829  12.5   7.87   0.0  0.524  6.012   66.6  5.5605  5.0  311.0   \n",
       "7  0.14455  12.5   7.87   0.0  0.524  6.172   96.1  5.9505  5.0  311.0   \n",
       "8  0.21124  12.5   7.87   0.0  0.524  5.631  100.0  6.0821  5.0  311.0   \n",
       "9  0.17004  12.5   7.87   0.0  0.524  6.004   85.9  6.5921  5.0  311.0   \n",
       "\n",
       "   PTRATIO       B  LSTAT  PRICE  \n",
       "0     15.3  396.90   4.98   24.0  \n",
       "1     17.8  396.90   9.14   21.6  \n",
       "2     17.8  392.83   4.03   34.7  \n",
       "3     18.7  394.63   2.94   33.4  \n",
       "4     18.7  396.90   5.33   36.2  \n",
       "5     18.7  394.12   5.21   28.7  \n",
       "6     15.2  395.60  12.43   22.9  \n",
       "7     15.2  396.90  19.15   27.1  \n",
       "8     15.2  386.63  29.93   16.5  \n",
       "9     15.2  386.71  17.10   18.9  "
      ]
     },
     "execution_count": 3,
     "metadata": {},
     "output_type": "execute_result"
    }
   ],
   "source": [
    "# loading the dataset into a pandas dataframe.\n",
    "house_price = load_boston()\n",
    "df = pd.DataFrame(house_price.data, columns=house_price.feature_names)\n",
    "df['PRICE'] = house_price.target\n",
    "df.head(10)"
   ]
  },
  {
   "cell_type": "code",
   "execution_count": 4,
   "metadata": {},
   "outputs": [
    {
     "name": "stdout",
     "output_type": "stream",
     "text": [
      "<class 'pandas.core.frame.DataFrame'>\n",
      "RangeIndex: 506 entries, 0 to 505\n",
      "Data columns (total 14 columns):\n",
      " #   Column   Non-Null Count  Dtype  \n",
      "---  ------   --------------  -----  \n",
      " 0   CRIM     506 non-null    float64\n",
      " 1   ZN       506 non-null    float64\n",
      " 2   INDUS    506 non-null    float64\n",
      " 3   CHAS     506 non-null    float64\n",
      " 4   NOX      506 non-null    float64\n",
      " 5   RM       506 non-null    float64\n",
      " 6   AGE      506 non-null    float64\n",
      " 7   DIS      506 non-null    float64\n",
      " 8   RAD      506 non-null    float64\n",
      " 9   TAX      506 non-null    float64\n",
      " 10  PTRATIO  506 non-null    float64\n",
      " 11  B        506 non-null    float64\n",
      " 12  LSTAT    506 non-null    float64\n",
      " 13  PRICE    506 non-null    float64\n",
      "dtypes: float64(14)\n",
      "memory usage: 55.4 KB\n"
     ]
    }
   ],
   "source": [
    "df.info()"
   ]
  },
  {
   "cell_type": "code",
   "execution_count": 5,
   "metadata": {},
   "outputs": [],
   "source": [
    "# separating independent and dependent variables\n",
    "x=df.drop('PRICE',axis=1)\n",
    "y=df['PRICE']"
   ]
  },
  {
   "cell_type": "code",
   "execution_count": 6,
   "metadata": {},
   "outputs": [],
   "source": [
    "# standardize the data\n",
    "scaler=preprocessing.StandardScaler()\n",
    "x_scaled=scaler.fit_transform(x)\n",
    "y_scaled=scaler.fit_transform(y.values.reshape(-1,1))"
   ]
  },
  {
   "cell_type": "markdown",
   "metadata": {},
   "source": [
    "We have scaled our data to make it more suitable for training the model. Now we will split the dataset into train and test set in the ratio 70:30"
   ]
  },
  {
   "cell_type": "code",
   "execution_count": 7,
   "metadata": {},
   "outputs": [],
   "source": [
    "# train/test split\n",
    "X_train, X_test, y_train, y_test = train_test_split(x_scaled, y_scaled.flatten(), test_size=0.3, random_state=10)"
   ]
  },
  {
   "cell_type": "code",
   "execution_count": 8,
   "metadata": {},
   "outputs": [
    {
     "name": "stdout",
     "output_type": "stream",
     "text": [
      "(354, 13)\n",
      "(354,)\n",
      "(152, 13)\n",
      "(152,)\n"
     ]
    }
   ],
   "source": [
    "print(X_train.shape)\n",
    "print(y_train.shape)\n",
    "print(X_test.shape)\n",
    "print(y_test.shape)"
   ]
  },
  {
   "cell_type": "markdown",
   "metadata": {},
   "source": [
    "#  Linear Regression with OLS Method\n",
    "\n",
    "In general the Linear regression follows OLS method to find the best fit. We are just mentioning it here to point out the difference between Linear and Ridge regression as they work along the same line but with a difference in their method."
   ]
  },
  {
   "cell_type": "code",
   "execution_count": 9,
   "metadata": {},
   "outputs": [
    {
     "data": {
      "text/html": [
       "<div>\n",
       "<style scoped>\n",
       "    .dataframe tbody tr th:only-of-type {\n",
       "        vertical-align: middle;\n",
       "    }\n",
       "\n",
       "    .dataframe tbody tr th {\n",
       "        vertical-align: top;\n",
       "    }\n",
       "\n",
       "    .dataframe thead th {\n",
       "        text-align: right;\n",
       "    }\n",
       "</style>\n",
       "<table border=\"1\" class=\"dataframe\">\n",
       "  <thead>\n",
       "    <tr style=\"text-align: right;\">\n",
       "      <th></th>\n",
       "      <th>variable</th>\n",
       "      <th>coefficient</th>\n",
       "    </tr>\n",
       "  </thead>\n",
       "  <tbody>\n",
       "    <tr>\n",
       "      <th>0</th>\n",
       "      <td>CRIM</td>\n",
       "      <td>-0.143818</td>\n",
       "    </tr>\n",
       "    <tr>\n",
       "      <th>1</th>\n",
       "      <td>ZN</td>\n",
       "      <td>0.164870</td>\n",
       "    </tr>\n",
       "    <tr>\n",
       "      <th>2</th>\n",
       "      <td>INDUS</td>\n",
       "      <td>-0.018096</td>\n",
       "    </tr>\n",
       "    <tr>\n",
       "      <th>3</th>\n",
       "      <td>CHAS</td>\n",
       "      <td>0.044795</td>\n",
       "    </tr>\n",
       "    <tr>\n",
       "      <th>4</th>\n",
       "      <td>NOX</td>\n",
       "      <td>-0.192769</td>\n",
       "    </tr>\n",
       "    <tr>\n",
       "      <th>5</th>\n",
       "      <td>RM</td>\n",
       "      <td>0.256075</td>\n",
       "    </tr>\n",
       "    <tr>\n",
       "      <th>6</th>\n",
       "      <td>AGE</td>\n",
       "      <td>0.034665</td>\n",
       "    </tr>\n",
       "    <tr>\n",
       "      <th>7</th>\n",
       "      <td>DIS</td>\n",
       "      <td>-0.354445</td>\n",
       "    </tr>\n",
       "    <tr>\n",
       "      <th>8</th>\n",
       "      <td>RAD</td>\n",
       "      <td>0.286523</td>\n",
       "    </tr>\n",
       "    <tr>\n",
       "      <th>9</th>\n",
       "      <td>TAX</td>\n",
       "      <td>-0.224147</td>\n",
       "    </tr>\n",
       "    <tr>\n",
       "      <th>10</th>\n",
       "      <td>PTRATIO</td>\n",
       "      <td>-0.191032</td>\n",
       "    </tr>\n",
       "    <tr>\n",
       "      <th>11</th>\n",
       "      <td>B</td>\n",
       "      <td>0.128553</td>\n",
       "    </tr>\n",
       "    <tr>\n",
       "      <th>12</th>\n",
       "      <td>LSTAT</td>\n",
       "      <td>-0.423056</td>\n",
       "    </tr>\n",
       "  </tbody>\n",
       "</table>\n",
       "</div>"
      ],
      "text/plain": [
       "   variable  coefficient\n",
       "0      CRIM    -0.143818\n",
       "1        ZN     0.164870\n",
       "2     INDUS    -0.018096\n",
       "3      CHAS     0.044795\n",
       "4       NOX    -0.192769\n",
       "5        RM     0.256075\n",
       "6       AGE     0.034665\n",
       "7       DIS    -0.354445\n",
       "8       RAD     0.286523\n",
       "9       TAX    -0.224147\n",
       "10  PTRATIO    -0.191032\n",
       "11        B     0.128553\n",
       "12    LSTAT    -0.423056"
      ]
     },
     "execution_count": 9,
     "metadata": {},
     "output_type": "execute_result"
    }
   ],
   "source": [
    "# performing Linear Regression\n",
    "ols_reg = LinearRegression()       # created an object of Linear Regression Class\n",
    "ols_reg.fit(X_train, y_train)      # fitted the model in training data\n",
    "ols_pred = ols_reg.predict(X_test) # made prediction using the model\n",
    "\n",
    "# creating a dataframe to list the variables and their coefficients.\n",
    "pd.DataFrame({'variable': house_price.feature_names, 'coefficient': ols_reg.coef_})"
   ]
  },
  {
   "cell_type": "code",
   "execution_count": 10,
   "metadata": {},
   "outputs": [
    {
     "data": {
      "image/png": "[encoded data removed]",
      "text/plain": [
       "<Figure size 1008x504 with 1 Axes>"
      ]
     },
     "metadata": {
      "needs_background": "light"
     },
     "output_type": "display_data"
    }
   ],
   "source": [
    "# Visualising the variable coefficients using a bar graph.\n",
    "coef = pd.Series(ols_reg.coef_,house_price.feature_names).sort_values()\n",
    "plt.figure(figsize=(14,7))\n",
    "coef.plot(kind='bar', title='Variable Coefficients')\n",
    "plt.show()"
   ]
  },
  {
   "cell_type": "markdown",
   "metadata": {},
   "source": [
    "The bars that have more value in either direction contribute more to the prediction performance of the model."
   ]
  },
  {
   "cell_type": "code",
   "execution_count": 11,
   "metadata": {},
   "outputs": [
    {
     "name": "stdout",
     "output_type": "stream",
     "text": [
      "Mean Squared Error : 0.3473910295367197\n",
      "R^2 Score : 0.6996255772983112\n"
     ]
    }
   ],
   "source": [
    "# calculating performance measure of the model \n",
    "lin_mse,lin_r2=performance_measure(y_test,ols_pred)\n",
    "print('Mean Squared Error :',lin_mse)\n",
    "print('R^2 Score :',lin_r2)"
   ]
  },
  {
   "cell_type": "markdown",
   "metadata": {},
   "source": [
    "# Ridge Regression"
   ]
  },
  {
   "cell_type": "markdown",
   "metadata": {},
   "source": [
    "In Ridge Regression choosing the value of alpha correctly is very important. We will first see the variable coefficient for different values of alpha in Ridge regression. We will visualise how the values of coefficients change with an increasing value of alpha and we will observe the fact that in Ridge regression the coefficients are made very small (almost equal to zero but not an exact zero) to reduce the complexity of the model."
   ]
  },
  {
   "cell_type": "code",
   "execution_count": 12,
   "metadata": {},
   "outputs": [
    {
     "data": {
      "image/png": "[encoded data removed]",
      "text/plain": [
       "<Figure size 1008x936 with 1 Axes>"
      ]
     },
     "metadata": {
      "needs_background": "light"
     },
     "output_type": "display_data"
    }
   ],
   "source": [
    "# creating an object of Ridge class and then performing ridge regression for various values of alpha\n",
    "ridge_reg = Ridge(alpha=0)\n",
    "ridge_reg.fit(X_train, y_train)\n",
    "ridge_df = pd.DataFrame({'variable': house_price.feature_names, 'estimate': ridge_reg.coef_})\n",
    "ridge_train_pred = []\n",
    "ridge_test_pred = []\n",
    "\n",
    "alphas = np.arange(0, 200, 1)\n",
    "\n",
    "for alpha in alphas:\n",
    "    ridge_reg = Ridge(alpha=alpha)\n",
    "    ridge_reg.fit(X_train, y_train)\n",
    "    var_name = 'estimate' + str(alpha)\n",
    "    ridge_df[var_name] = ridge_reg.coef_\n",
    "    # prediction\n",
    "    ridge_train_pred.append(ridge_reg.predict(X_train))\n",
    "    ridge_test_pred.append(ridge_reg.predict(X_test))\n",
    "    \n",
    "ridge_df = ridge_df.set_index('variable').T.rename_axis('estimate').rename_axis(None, axis=1).reset_index()\n",
    "\n",
    "fig, ax = plt.subplots(figsize=(14, 13))\n",
    "ax.plot(ridge_df.CRIM,'b', ridge_df.ZN,'g', ridge_df.INDUS,'r', ridge_df.CHAS,'c', ridge_df.NOX,'brown', ridge_df.RM,'y', \n",
    "        ridge_df.AGE,'k', ridge_df.DIS,'coral', ridge_df.RAD,'lime', ridge_df.TAX,'slategray', ridge_df.PTRATIO,'orchid',\n",
    "        ridge_df.B,'skyblue', ridge_df.LSTAT,'orange')\n",
    "\n",
    "ax.axhline(y=0, color='black', linestyle='--')\n",
    "ax.set_xlabel(\"Alpha\")\n",
    "ax.set_ylabel(\"Beta Estimate\")\n",
    "ax.set_title(\"Ridge Regression Trace\", fontsize=16)\n",
    "ax.legend(labels=house_price.feature_names)\n",
    "ax.grid(True)"
   ]
  },
  {
   "cell_type": "markdown",
   "metadata": {},
   "source": [
    "As a $\\lambda$ increases, the lines representing the features are converging to zero. These lines are $\\beta$'s and they are same as OLS model's coefficients at lambda zero because of no penalty. While the feature \"RM\" stays quite the same, \"TAX\" gets close to zero quickly. This is suggestive of each feature's importance. Note that the lines will never hit zero, but only converges to it."
   ]
  },
  {
   "cell_type": "code",
   "execution_count": 13,
   "metadata": {},
   "outputs": [
    {
     "data": {
      "text/html": [
       "<div>\n",
       "<style scoped>\n",
       "    .dataframe tbody tr th:only-of-type {\n",
       "        vertical-align: middle;\n",
       "    }\n",
       "\n",
       "    .dataframe tbody tr th {\n",
       "        vertical-align: top;\n",
       "    }\n",
       "\n",
       "    .dataframe thead th {\n",
       "        text-align: right;\n",
       "    }\n",
       "</style>\n",
       "<table border=\"1\" class=\"dataframe\">\n",
       "  <thead>\n",
       "    <tr style=\"text-align: right;\">\n",
       "      <th></th>\n",
       "      <th>estimate</th>\n",
       "      <th>CRIM</th>\n",
       "      <th>ZN</th>\n",
       "      <th>INDUS</th>\n",
       "      <th>CHAS</th>\n",
       "      <th>NOX</th>\n",
       "      <th>RM</th>\n",
       "      <th>AGE</th>\n",
       "      <th>DIS</th>\n",
       "      <th>RAD</th>\n",
       "      <th>TAX</th>\n",
       "      <th>PTRATIO</th>\n",
       "      <th>B</th>\n",
       "      <th>LSTAT</th>\n",
       "    </tr>\n",
       "  </thead>\n",
       "  <tbody>\n",
       "    <tr>\n",
       "      <th>0</th>\n",
       "      <td>estimate</td>\n",
       "      <td>-0.143818</td>\n",
       "      <td>0.164870</td>\n",
       "      <td>-0.018096</td>\n",
       "      <td>0.044795</td>\n",
       "      <td>-0.192769</td>\n",
       "      <td>0.256075</td>\n",
       "      <td>0.034665</td>\n",
       "      <td>-0.354445</td>\n",
       "      <td>0.286523</td>\n",
       "      <td>-0.224147</td>\n",
       "      <td>-0.191032</td>\n",
       "      <td>0.128553</td>\n",
       "      <td>-0.423056</td>\n",
       "    </tr>\n",
       "    <tr>\n",
       "      <th>1</th>\n",
       "      <td>estimate0</td>\n",
       "      <td>-0.143818</td>\n",
       "      <td>0.164870</td>\n",
       "      <td>-0.018096</td>\n",
       "      <td>0.044795</td>\n",
       "      <td>-0.192769</td>\n",
       "      <td>0.256075</td>\n",
       "      <td>0.034665</td>\n",
       "      <td>-0.354445</td>\n",
       "      <td>0.286523</td>\n",
       "      <td>-0.224147</td>\n",
       "      <td>-0.191032</td>\n",
       "      <td>0.128553</td>\n",
       "      <td>-0.423056</td>\n",
       "    </tr>\n",
       "    <tr>\n",
       "      <th>2</th>\n",
       "      <td>estimate1</td>\n",
       "      <td>-0.142125</td>\n",
       "      <td>0.162353</td>\n",
       "      <td>-0.020276</td>\n",
       "      <td>0.045337</td>\n",
       "      <td>-0.188818</td>\n",
       "      <td>0.257760</td>\n",
       "      <td>0.033222</td>\n",
       "      <td>-0.349745</td>\n",
       "      <td>0.276524</td>\n",
       "      <td>-0.215132</td>\n",
       "      <td>-0.190070</td>\n",
       "      <td>0.128401</td>\n",
       "      <td>-0.420906</td>\n",
       "    </tr>\n",
       "    <tr>\n",
       "      <th>3</th>\n",
       "      <td>estimate2</td>\n",
       "      <td>-0.140515</td>\n",
       "      <td>0.159960</td>\n",
       "      <td>-0.022258</td>\n",
       "      <td>0.045842</td>\n",
       "      <td>-0.185044</td>\n",
       "      <td>0.259334</td>\n",
       "      <td>0.031848</td>\n",
       "      <td>-0.345179</td>\n",
       "      <td>0.267226</td>\n",
       "      <td>-0.206834</td>\n",
       "      <td>-0.189153</td>\n",
       "      <td>0.128246</td>\n",
       "      <td>-0.418798</td>\n",
       "    </tr>\n",
       "    <tr>\n",
       "      <th>4</th>\n",
       "      <td>estimate3</td>\n",
       "      <td>-0.138981</td>\n",
       "      <td>0.157681</td>\n",
       "      <td>-0.024064</td>\n",
       "      <td>0.046314</td>\n",
       "      <td>-0.181434</td>\n",
       "      <td>0.260805</td>\n",
       "      <td>0.030537</td>\n",
       "      <td>-0.340743</td>\n",
       "      <td>0.258555</td>\n",
       "      <td>-0.199176</td>\n",
       "      <td>-0.188278</td>\n",
       "      <td>0.128086</td>\n",
       "      <td>-0.416733</td>\n",
       "    </tr>\n",
       "    <tr>\n",
       "      <th>...</th>\n",
       "      <td>...</td>\n",
       "      <td>...</td>\n",
       "      <td>...</td>\n",
       "      <td>...</td>\n",
       "      <td>...</td>\n",
       "      <td>...</td>\n",
       "      <td>...</td>\n",
       "      <td>...</td>\n",
       "      <td>...</td>\n",
       "      <td>...</td>\n",
       "      <td>...</td>\n",
       "      <td>...</td>\n",
       "      <td>...</td>\n",
       "      <td>...</td>\n",
       "    </tr>\n",
       "    <tr>\n",
       "      <th>196</th>\n",
       "      <td>estimate195</td>\n",
       "      <td>-0.071918</td>\n",
       "      <td>0.073703</td>\n",
       "      <td>-0.054916</td>\n",
       "      <td>0.054413</td>\n",
       "      <td>-0.054293</td>\n",
       "      <td>0.238170</td>\n",
       "      <td>-0.021932</td>\n",
       "      <td>-0.097744</td>\n",
       "      <td>0.020012</td>\n",
       "      <td>-0.053897</td>\n",
       "      <td>-0.135171</td>\n",
       "      <td>0.090210</td>\n",
       "      <td>-0.250619</td>\n",
       "    </tr>\n",
       "    <tr>\n",
       "      <th>197</th>\n",
       "      <td>estimate196</td>\n",
       "      <td>-0.071809</td>\n",
       "      <td>0.073610</td>\n",
       "      <td>-0.054932</td>\n",
       "      <td>0.054377</td>\n",
       "      <td>-0.054200</td>\n",
       "      <td>0.237868</td>\n",
       "      <td>-0.022003</td>\n",
       "      <td>-0.097329</td>\n",
       "      <td>0.019777</td>\n",
       "      <td>-0.053865</td>\n",
       "      <td>-0.135018</td>\n",
       "      <td>0.090070</td>\n",
       "      <td>-0.250188</td>\n",
       "    </tr>\n",
       "    <tr>\n",
       "      <th>198</th>\n",
       "      <td>estimate197</td>\n",
       "      <td>-0.071701</td>\n",
       "      <td>0.073518</td>\n",
       "      <td>-0.054947</td>\n",
       "      <td>0.054341</td>\n",
       "      <td>-0.054108</td>\n",
       "      <td>0.237565</td>\n",
       "      <td>-0.022073</td>\n",
       "      <td>-0.096917</td>\n",
       "      <td>0.019543</td>\n",
       "      <td>-0.053833</td>\n",
       "      <td>-0.134865</td>\n",
       "      <td>0.089930</td>\n",
       "      <td>-0.249759</td>\n",
       "    </tr>\n",
       "    <tr>\n",
       "      <th>199</th>\n",
       "      <td>estimate198</td>\n",
       "      <td>-0.071594</td>\n",
       "      <td>0.073426</td>\n",
       "      <td>-0.054963</td>\n",
       "      <td>0.054304</td>\n",
       "      <td>-0.054016</td>\n",
       "      <td>0.237264</td>\n",
       "      <td>-0.022143</td>\n",
       "      <td>-0.096507</td>\n",
       "      <td>0.019312</td>\n",
       "      <td>-0.053801</td>\n",
       "      <td>-0.134712</td>\n",
       "      <td>0.089791</td>\n",
       "      <td>-0.249332</td>\n",
       "    </tr>\n",
       "    <tr>\n",
       "      <th>200</th>\n",
       "      <td>estimate199</td>\n",
       "      <td>-0.071487</td>\n",
       "      <td>0.073335</td>\n",
       "      <td>-0.054978</td>\n",
       "      <td>0.054268</td>\n",
       "      <td>-0.053926</td>\n",
       "      <td>0.236963</td>\n",
       "      <td>-0.022213</td>\n",
       "      <td>-0.096100</td>\n",
       "      <td>0.019082</td>\n",
       "      <td>-0.053770</td>\n",
       "      <td>-0.134560</td>\n",
       "      <td>0.089653</td>\n",
       "      <td>-0.248907</td>\n",
       "    </tr>\n",
       "  </tbody>\n",
       "</table>\n",
       "<p>201 rows × 14 columns</p>\n",
       "</div>"
      ],
      "text/plain": [
       "        estimate      CRIM        ZN     INDUS      CHAS       NOX        RM  \\\n",
       "0       estimate -0.143818  0.164870 -0.018096  0.044795 -0.192769  0.256075   \n",
       "1      estimate0 -0.143818  0.164870 -0.018096  0.044795 -0.192769  0.256075   \n",
       "2      estimate1 -0.142125  0.162353 -0.020276  0.045337 -0.188818  0.257760   \n",
       "3      estimate2 -0.140515  0.159960 -0.022258  0.045842 -0.185044  0.259334   \n",
       "4      estimate3 -0.138981  0.157681 -0.024064  0.046314 -0.181434  0.260805   \n",
       "..           ...       ...       ...       ...       ...       ...       ...   \n",
       "196  estimate195 -0.071918  0.073703 -0.054916  0.054413 -0.054293  0.238170   \n",
       "197  estimate196 -0.071809  0.073610 -0.054932  0.054377 -0.054200  0.237868   \n",
       "198  estimate197 -0.071701  0.073518 -0.054947  0.054341 -0.054108  0.237565   \n",
       "199  estimate198 -0.071594  0.073426 -0.054963  0.054304 -0.054016  0.237264   \n",
       "200  estimate199 -0.071487  0.073335 -0.054978  0.054268 -0.053926  0.236963   \n",
       "\n",
       "          AGE       DIS       RAD       TAX   PTRATIO         B     LSTAT  \n",
       "0    0.034665 -0.354445  0.286523 -0.224147 -0.191032  0.128553 -0.423056  \n",
       "1    0.034665 -0.354445  0.286523 -0.224147 -0.191032  0.128553 -0.423056  \n",
       "2    0.033222 -0.349745  0.276524 -0.215132 -0.190070  0.128401 -0.420906  \n",
       "3    0.031848 -0.345179  0.267226 -0.206834 -0.189153  0.128246 -0.418798  \n",
       "4    0.030537 -0.340743  0.258555 -0.199176 -0.188278  0.128086 -0.416733  \n",
       "..        ...       ...       ...       ...       ...       ...       ...  \n",
       "196 -0.021932 -0.097744  0.020012 -0.053897 -0.135171  0.090210 -0.250619  \n",
       "197 -0.022003 -0.097329  0.019777 -0.053865 -0.135018  0.090070 -0.250188  \n",
       "198 -0.022073 -0.096917  0.019543 -0.053833 -0.134865  0.089930 -0.249759  \n",
       "199 -0.022143 -0.096507  0.019312 -0.053801 -0.134712  0.089791 -0.249332  \n",
       "200 -0.022213 -0.096100  0.019082 -0.053770 -0.134560  0.089653 -0.248907  \n",
       "\n",
       "[201 rows x 14 columns]"
      ]
     },
     "execution_count": 13,
     "metadata": {},
     "output_type": "execute_result"
    }
   ],
   "source": [
    "ridge_df"
   ]
  },
  {
   "cell_type": "markdown",
   "metadata": {},
   "source": [
    "This dataframe contains values of coefficient of the features (independent variables) for different values of alpha ( i.e. from 0 to 200)."
   ]
  },
  {
   "cell_type": "markdown",
   "metadata": {},
   "source": [
    "# R$^2$ Analysis"
   ]
  },
  {
   "cell_type": "markdown",
   "metadata": {},
   "source": [
    "The r$^2$ score is a measure for analysing the performance of a model. When comparing two models, the higher the value, the better the performance."
   ]
  },
  {
   "cell_type": "code",
   "execution_count": 14,
   "metadata": {},
   "outputs": [
    {
     "data": {
      "text/plain": [
       "Text(0, 0.5, 'R-squared')"
      ]
     },
     "execution_count": 14,
     "metadata": {},
     "output_type": "execute_result"
    },
    {
     "data": {
      "image/png": "[encoded data removed]",
      "text/plain": [
       "<Figure size 1008x504 with 2 Axes>"
      ]
     },
     "metadata": {
      "needs_background": "light"
     },
     "output_type": "display_data"
    }
   ],
   "source": [
    "# R-squared of training set\n",
    "ridge_r_squared_train = [performance_measure(y_train, p)[1] for p in ridge_train_pred]\n",
    "# R-squared of test set\n",
    "ridge_r_squared_test = [performance_measure(y_test, p)[1] for p in ridge_test_pred]\n",
    "\n",
    "# plot R-squared of training and test\n",
    "fig, axes = plt.subplots(1, 2, figsize=(14, 7))\n",
    "plt.rcParams['axes.grid'] = True\n",
    "\n",
    "# training set and test set together\n",
    "axes[0].plot(ridge_r_squared_train, 'b', ridge_r_squared_test, 'r')\n",
    "axes[0].set_title(\"Ridge Regression R-squared\", fontsize=16)\n",
    "axes[0].set_ylabel(\"R-squared\")\n",
    "\n",
    "# test set curve\n",
    "axes[1].plot(ridge_r_squared_test[:25], 'ro')\n",
    "axes[1].axhline(y=lin_r2, color='g', linestyle='--')\n",
    "axes[1].set_title(\"Ridge Test Set Zoom-in\", fontsize=16)\n",
    "axes[1].set_xlabel(\"Model Simplicity$\\longrightarrow$\")\n",
    "axes[1].set_ylabel(\"R-squared\")"
   ]
  },
  {
   "cell_type": "markdown",
   "metadata": {},
   "source": [
    "We see the R-squared of test set is located below the R-squared of training set. This is natural because the training set R-squared is calculated based on itself while the test set R-squared is based on the model made from training set.\n",
    "\n",
    "Another point is that the training set R-squared constantly declines as the model gets simpler. Understanding it reversely, we know that training set R-squared should increase as we add more variables, which is called overfitting. From the right plot, however, it seems like the test set R-squared improves as the model becomes simpler. Recalling the definition of overfitting, a simpler model is good for new observations, the test set here."
   ]
  },
  {
   "cell_type": "markdown",
   "metadata": {},
   "source": [
    "# MSE Analysis\n",
    "\n",
    "The Mean Absolute Error (MSE) is a measure for analysing the performance of a model. When comparing two models, the lower the value, the better the performance."
   ]
  },
  {
   "cell_type": "code",
   "execution_count": 15,
   "metadata": {},
   "outputs": [
    {
     "data": {
      "text/plain": [
       "Text(0, 0.5, 'MSE')"
      ]
     },
     "execution_count": 15,
     "metadata": {},
     "output_type": "execute_result"
    },
    {
     "data": {
      "image/png": "[encoded data removed]",
      "text/plain": [
       "<Figure size 1008x504 with 2 Axes>"
      ]
     },
     "metadata": {
      "needs_background": "light"
     },
     "output_type": "display_data"
    }
   ],
   "source": [
    "# MSE of training set\n",
    "ridge_mse_train = [performance_measure(y_train, p)[0] for p in ridge_train_pred]\n",
    "# MSE of test set\n",
    "ridge_mse_test = [performance_measure(y_test, p)[0] for p in ridge_test_pred]\n",
    "\n",
    "# plot MSE of training and test\n",
    "fig, axes = plt.subplots(1, 2, figsize=(14, 7))\n",
    "plt.rcParams['axes.grid'] = True\n",
    "\n",
    "# training set and test set together\n",
    "axes[0].plot(ridge_mse_train, 'b', ridge_mse_test, 'r')\n",
    "axes[0].set_title(\"Ridge Regression MSE\", fontsize=16)\n",
    "axes[0].set_ylabel(\"MSE\")\n",
    "\n",
    "# test set curve\n",
    "axes[1].plot(ridge_mse_test[:25], 'ro')\n",
    "axes[1].axhline(y=lin_mse, color='g', linestyle='--')\n",
    "axes[1].set_title(\"Ridge Test Set MSE\", fontsize=16)\n",
    "axes[1].set_xlabel(\"Model Simplicity$\\longrightarrow$\")\n",
    "axes[1].set_ylabel(\"MSE\")"
   ]
  },
  {
   "cell_type": "markdown",
   "metadata": {},
   "source": [
    "These plots can be explained in the same way of the R-squared plots, but in the opposite direction. MSE is one of the indicators to measure errors. We can see that the test set MSE has the lowest point approximately around the point (7,0.347). \n",
    "\n",
    "\n",
    "Next, we will find the alpha value (or lambda) for this type of lowest point. Note that the lalpha to be found won't be corresponding to the exact point on the plot above, as we are not trying for a test set specific alpha, we will run a general search for such a value of aplha in a given range that will correspond to the least value of mse and a higher value of r^2 score.\n",
    "\n",
    "\n",
    "For conducting this type of search we will use the GridSearch class available in scikit-learn. Please refer to the documentation link provided  to know more about it: https://scikit-learn.org/stable/modules/generated/sklearn.model_selection.GridSearchCV.html?highlight=gridsearchcv#sklearn.model_selection.GridSearchCV\n",
    "\n",
    "\n",
    "In addition, there are other libraries called RidgeCV and LassoCV. They basically do the same job to loop through values and find the optimal value as done by GridSearchCV but with slightly different mechanism."
   ]
  },
  {
   "cell_type": "code",
   "execution_count": 16,
   "metadata": {},
   "outputs": [
    {
     "name": "stdout",
     "output_type": "stream",
     "text": [
      "Mean Squared Error : 0.3474\n",
      "R^2 Score : 0.6996\n"
     ]
    }
   ],
   "source": [
    "# For comparison we will display the performance measure of Linear Regression here\n",
    "print('Mean Squared Error :',round(lin_mse,4))\n",
    "print('R^2 Score :',round(lin_r2,4))"
   ]
  },
  {
   "cell_type": "code",
   "execution_count": 17,
   "metadata": {},
   "outputs": [
    {
     "name": "stdout",
     "output_type": "stream",
     "text": [
      "Ridge(alpha=2.63)\n",
      "\n",
      "Mean Squared Error : 0.3469\n",
      "R^2 Score : 0.7001\n"
     ]
    }
   ],
   "source": [
    "param = {'alpha': np.arange(0.01, 10, 0.01)}\n",
    "\n",
    "ridge_reg_grid = GridSearchCV(Ridge(), param)\n",
    "ridge_reg_grid.fit(X_train, y_train)\n",
    "ridge_grid_pred = ridge_reg_grid.predict(X_test)\n",
    "\n",
    "print(ridge_reg_grid.best_estimator_)\n",
    "print(\"\\nMean Squared Error :\", round(mean_squared_error(y_test, ridge_grid_pred), 4))\n",
    "print(\"R^2 Score :\", round(r2_score(y_test, ridge_grid_pred), 4))\n"
   ]
  },
  {
   "cell_type": "markdown",
   "metadata": {},
   "source": [
    "We can observe that the performance of the ridge regression model is slightly better than the performance of linear regression as the MSE has declined a bit and the r^2 score has increased slightly. This change can be more dramatic on some different data set. Try out the comparison on a number of datasets to understand the difference more clearly."
   ]
  },
  {
   "cell_type": "code",
   "execution_count": 18,
   "metadata": {},
   "outputs": [
    {
     "name": "stdout",
     "output_type": "stream",
     "text": [
      "Mean Squared Error : 0.3469\n",
      "R^2 Score : 0.7001\n"
     ]
    }
   ],
   "source": [
    "# Performing ridge regression with alpha=2.63\n",
    "ridge_reg2 = Ridge(alpha=2.63)\n",
    "ridge_reg2.fit(X_train, y_train)\n",
    "y_pred=ridge_reg2.predict(X_test)\n",
    "\n",
    "ridge_mse,ridge_r2=performance_measure(y_test,y_pred)\n",
    "print('Mean Squared Error :',round(ridge_mse,4))\n",
    "print('R^2 Score :',round(ridge_r2,4))"
   ]
  },
  {
   "cell_type": "code",
   "execution_count": 19,
   "metadata": {},
   "outputs": [
    {
     "data": {
      "text/html": [
       "<div>\n",
       "<style scoped>\n",
       "    .dataframe tbody tr th:only-of-type {\n",
       "        vertical-align: middle;\n",
       "    }\n",
       "\n",
       "    .dataframe tbody tr th {\n",
       "        vertical-align: top;\n",
       "    }\n",
       "\n",
       "    .dataframe thead th {\n",
       "        text-align: right;\n",
       "    }\n",
       "</style>\n",
       "<table border=\"1\" class=\"dataframe\">\n",
       "  <thead>\n",
       "    <tr style=\"text-align: right;\">\n",
       "      <th></th>\n",
       "      <th>variable</th>\n",
       "      <th>coefficient</th>\n",
       "    </tr>\n",
       "  </thead>\n",
       "  <tbody>\n",
       "    <tr>\n",
       "      <th>0</th>\n",
       "      <td>CRIM</td>\n",
       "      <td>-0.139540</td>\n",
       "    </tr>\n",
       "    <tr>\n",
       "      <th>1</th>\n",
       "      <td>ZN</td>\n",
       "      <td>0.158511</td>\n",
       "    </tr>\n",
       "    <tr>\n",
       "      <th>2</th>\n",
       "      <td>INDUS</td>\n",
       "      <td>-0.023415</td>\n",
       "    </tr>\n",
       "    <tr>\n",
       "      <th>3</th>\n",
       "      <td>CHAS</td>\n",
       "      <td>0.046143</td>\n",
       "    </tr>\n",
       "    <tr>\n",
       "      <th>4</th>\n",
       "      <td>NOX</td>\n",
       "      <td>-0.182751</td>\n",
       "    </tr>\n",
       "    <tr>\n",
       "      <th>5</th>\n",
       "      <td>RM</td>\n",
       "      <td>0.260272</td>\n",
       "    </tr>\n",
       "    <tr>\n",
       "      <th>6</th>\n",
       "      <td>AGE</td>\n",
       "      <td>0.031015</td>\n",
       "    </tr>\n",
       "    <tr>\n",
       "      <th>7</th>\n",
       "      <td>DIS</td>\n",
       "      <td>-0.342370</td>\n",
       "    </tr>\n",
       "    <tr>\n",
       "      <th>8</th>\n",
       "      <td>RAD</td>\n",
       "      <td>0.261695</td>\n",
       "    </tr>\n",
       "    <tr>\n",
       "      <th>9</th>\n",
       "      <td>TAX</td>\n",
       "      <td>-0.201940</td>\n",
       "    </tr>\n",
       "    <tr>\n",
       "      <th>10</th>\n",
       "      <td>PTRATIO</td>\n",
       "      <td>-0.188597</td>\n",
       "    </tr>\n",
       "    <tr>\n",
       "      <th>11</th>\n",
       "      <td>B</td>\n",
       "      <td>0.128146</td>\n",
       "    </tr>\n",
       "    <tr>\n",
       "      <th>12</th>\n",
       "      <td>LSTAT</td>\n",
       "      <td>-0.417492</td>\n",
       "    </tr>\n",
       "  </tbody>\n",
       "</table>\n",
       "</div>"
      ],
      "text/plain": [
       "   variable  coefficient\n",
       "0      CRIM    -0.139540\n",
       "1        ZN     0.158511\n",
       "2     INDUS    -0.023415\n",
       "3      CHAS     0.046143\n",
       "4       NOX    -0.182751\n",
       "5        RM     0.260272\n",
       "6       AGE     0.031015\n",
       "7       DIS    -0.342370\n",
       "8       RAD     0.261695\n",
       "9       TAX    -0.201940\n",
       "10  PTRATIO    -0.188597\n",
       "11        B     0.128146\n",
       "12    LSTAT    -0.417492"
      ]
     },
     "execution_count": 19,
     "metadata": {},
     "output_type": "execute_result"
    }
   ],
   "source": [
    "# creating a dataframe to display the variables along with their coefficients \n",
    "pd.DataFrame({'variable': house_price.feature_names, 'coefficient': ridge_reg2.coef_})"
   ]
  },
  {
   "cell_type": "code",
   "execution_count": 20,
   "metadata": {},
   "outputs": [
    {
     "data": {
      "image/png": "[encoded data removed]",
      "text/plain": [
       "<Figure size 1008x504 with 1 Axes>"
      ]
     },
     "metadata": {
      "needs_background": "light"
     },
     "output_type": "display_data"
    }
   ],
   "source": [
    "# Visualising the variable coefficients using a bar graph.\n",
    "plt.rcParams['axes.grid'] = False\n",
    "coef = pd.Series(ridge_reg2.coef_,house_price.feature_names).sort_values()\n",
    "plt.figure(figsize=(14,7))\n",
    "coef.plot(kind='bar', title='Variable Coefficients')\n",
    "plt.show()"
   ]
  },
  {
   "cell_type": "markdown",
   "metadata": {},
   "source": [
    "# Example 2\n",
    "\n",
    "**Hand's on time!**\n",
    "\n",
    "The dataset has been downloaded and converted into a pandas data frame. Follow the instructions and fill in the missing lines of code to get the results."
   ]
  },
  {
   "cell_type": "code",
   "execution_count": 21,
   "metadata": {},
   "outputs": [],
   "source": [
    "# A helper function for downloading files using url\n",
    "import requests\n",
    "import os\n",
    "def download(url, local_filename=None):\n",
    "    \"\"\"\n",
    "    Downloads the file in the ``url`` and saves it in the current working directory.\n",
    "    \"\"\"\n",
    "    data = requests.get(url)\n",
    "    if local_filename is None:\n",
    "        local_filename = os.path.basename(url)\n",
    "    with open(local_filename, 'wb') as fd:\n",
    "        fd.write(data.content)"
   ]
  },
  {
   "cell_type": "code",
   "execution_count": 22,
   "metadata": {},
   "outputs": [
    {
     "data": {
      "text/html": [
       "<div>\n",
       "<style scoped>\n",
       "    .dataframe tbody tr th:only-of-type {\n",
       "        vertical-align: middle;\n",
       "    }\n",
       "\n",
       "    .dataframe tbody tr th {\n",
       "        vertical-align: top;\n",
       "    }\n",
       "\n",
       "    .dataframe thead th {\n",
       "        text-align: right;\n",
       "    }\n",
       "</style>\n",
       "<table border=\"1\" class=\"dataframe\">\n",
       "  <thead>\n",
       "    <tr style=\"text-align: right;\">\n",
       "      <th></th>\n",
       "      <th>mpg</th>\n",
       "      <th>cyl</th>\n",
       "      <th>disp</th>\n",
       "      <th>hp</th>\n",
       "      <th>drat</th>\n",
       "      <th>wt</th>\n",
       "      <th>qsec</th>\n",
       "      <th>vs</th>\n",
       "      <th>am</th>\n",
       "      <th>gear</th>\n",
       "      <th>carb</th>\n",
       "    </tr>\n",
       "    <tr>\n",
       "      <th>model</th>\n",
       "      <th></th>\n",
       "      <th></th>\n",
       "      <th></th>\n",
       "      <th></th>\n",
       "      <th></th>\n",
       "      <th></th>\n",
       "      <th></th>\n",
       "      <th></th>\n",
       "      <th></th>\n",
       "      <th></th>\n",
       "      <th></th>\n",
       "    </tr>\n",
       "  </thead>\n",
       "  <tbody>\n",
       "    <tr>\n",
       "      <th>Mazda RX4</th>\n",
       "      <td>21.0</td>\n",
       "      <td>6</td>\n",
       "      <td>160.0</td>\n",
       "      <td>110</td>\n",
       "      <td>3.90</td>\n",
       "      <td>2.620</td>\n",
       "      <td>16.46</td>\n",
       "      <td>0</td>\n",
       "      <td>1</td>\n",
       "      <td>4</td>\n",
       "      <td>4</td>\n",
       "    </tr>\n",
       "    <tr>\n",
       "      <th>Mazda RX4 Wag</th>\n",
       "      <td>21.0</td>\n",
       "      <td>6</td>\n",
       "      <td>160.0</td>\n",
       "      <td>110</td>\n",
       "      <td>3.90</td>\n",
       "      <td>2.875</td>\n",
       "      <td>17.02</td>\n",
       "      <td>0</td>\n",
       "      <td>1</td>\n",
       "      <td>4</td>\n",
       "      <td>4</td>\n",
       "    </tr>\n",
       "    <tr>\n",
       "      <th>Datsun 710</th>\n",
       "      <td>22.8</td>\n",
       "      <td>4</td>\n",
       "      <td>108.0</td>\n",
       "      <td>93</td>\n",
       "      <td>3.85</td>\n",
       "      <td>2.320</td>\n",
       "      <td>18.61</td>\n",
       "      <td>1</td>\n",
       "      <td>1</td>\n",
       "      <td>4</td>\n",
       "      <td>1</td>\n",
       "    </tr>\n",
       "    <tr>\n",
       "      <th>Hornet 4 Drive</th>\n",
       "      <td>21.4</td>\n",
       "      <td>6</td>\n",
       "      <td>258.0</td>\n",
       "      <td>110</td>\n",
       "      <td>3.08</td>\n",
       "      <td>3.215</td>\n",
       "      <td>19.44</td>\n",
       "      <td>1</td>\n",
       "      <td>0</td>\n",
       "      <td>3</td>\n",
       "      <td>1</td>\n",
       "    </tr>\n",
       "    <tr>\n",
       "      <th>Hornet Sportabout</th>\n",
       "      <td>18.7</td>\n",
       "      <td>8</td>\n",
       "      <td>360.0</td>\n",
       "      <td>175</td>\n",
       "      <td>3.15</td>\n",
       "      <td>3.440</td>\n",
       "      <td>17.02</td>\n",
       "      <td>0</td>\n",
       "      <td>0</td>\n",
       "      <td>3</td>\n",
       "      <td>2</td>\n",
       "    </tr>\n",
       "  </tbody>\n",
       "</table>\n",
       "</div>"
      ],
      "text/plain": [
       "                    mpg  cyl   disp   hp  drat     wt   qsec  vs  am  gear  \\\n",
       "model                                                                        \n",
       "Mazda RX4          21.0    6  160.0  110  3.90  2.620  16.46   0   1     4   \n",
       "Mazda RX4 Wag      21.0    6  160.0  110  3.90  2.875  17.02   0   1     4   \n",
       "Datsun 710         22.8    4  108.0   93  3.85  2.320  18.61   1   1     4   \n",
       "Hornet 4 Drive     21.4    6  258.0  110  3.08  3.215  19.44   1   0     3   \n",
       "Hornet Sportabout  18.7    8  360.0  175  3.15  3.440  17.02   0   0     3   \n",
       "\n",
       "                   carb  \n",
       "model                    \n",
       "Mazda RX4             4  \n",
       "Mazda RX4 Wag         4  \n",
       "Datsun 710            1  \n",
       "Hornet 4 Drive        1  \n",
       "Hornet Sportabout     2  "
      ]
     },
     "execution_count": 22,
     "metadata": {},
     "output_type": "execute_result"
    }
   ],
   "source": [
    "# download data\n",
    "url='https://gist.githubusercontent.com/seankross/a412dfbd88b3db70b74b/raw/5f23f993cd87c283ce766e7ac6b329ee7cc2e1d1/mtcars.csv'\n",
    "download(url)\n",
    "\n",
    "# loading the data into a pandas dataframe\n",
    "data_df= pd.read_csv('mtcars.csv',index_col='model')\n",
    "data_df.head()"
   ]
  },
  {
   "cell_type": "code",
   "execution_count": 23,
   "metadata": {},
   "outputs": [
    {
     "name": "stdout",
     "output_type": "stream",
     "text": [
      "<class 'pandas.core.frame.DataFrame'>\n",
      "Index: 32 entries, Mazda RX4 to Volvo 142E\n",
      "Data columns (total 11 columns):\n",
      " #   Column  Non-Null Count  Dtype  \n",
      "---  ------  --------------  -----  \n",
      " 0   mpg     32 non-null     float64\n",
      " 1   cyl     32 non-null     int64  \n",
      " 2   disp    32 non-null     float64\n",
      " 3   hp      32 non-null     int64  \n",
      " 4   drat    32 non-null     float64\n",
      " 5   wt      32 non-null     float64\n",
      " 6   qsec    32 non-null     float64\n",
      " 7   vs      32 non-null     int64  \n",
      " 8   am      32 non-null     int64  \n",
      " 9   gear    32 non-null     int64  \n",
      " 10  carb    32 non-null     int64  \n",
      "dtypes: float64(5), int64(6)\n",
      "memory usage: 2.9+ KB\n"
     ]
    }
   ],
   "source": [
    "data_df.info()"
   ]
  },
  {
   "cell_type": "markdown",
   "metadata": {},
   "source": [
    "Separate the feature set and target.\n",
    "\n",
    "\n",
    "**The feature should consist of all columns except the column 'mpg'.**\n",
    "\n",
    "\n",
    "**The target column is 'mpg'.**"
   ]
  },
  {
   "cell_type": "code",
   "execution_count": null,
   "metadata": {},
   "outputs": [],
   "source": [
    "# separating the independent and dependent variables\n",
    "x=<<'your code here'>>\n",
    "y= <<'your code here'>>"
   ]
  },
  {
   "cell_type": "code",
   "execution_count": null,
   "metadata": {},
   "outputs": [],
   "source": [
    "# standardize the data\n",
    "scaler=preprocessing.StandardScaler()\n",
    "x_scaled=scaler.fit_transform(x)\n",
    "y_scaled=scaler.fit_transform(y.values.reshape(-1,1))"
   ]
  },
  {
   "cell_type": "markdown",
   "metadata": {},
   "source": [
    "**Split the dataset into train and test in the ratio 70:30.**"
   ]
  },
  {
   "cell_type": "code",
   "execution_count": null,
   "metadata": {},
   "outputs": [],
   "source": [
    "# train/test split\n",
    "x_train, x_test, y_train, y_test = train_test_split(x_scaled, y_scaled.flatten(), test_size=<<'your code here'>>, random_state=10)"
   ]
  },
  {
   "cell_type": "code",
   "execution_count": null,
   "metadata": {},
   "outputs": [],
   "source": [
    "print(x_train.shape)\n",
    "print(y_train.shape)\n",
    "print(x_test.shape)\n",
    "print(y_test.shape)"
   ]
  },
  {
   "cell_type": "markdown",
   "metadata": {},
   "source": [
    "The result of the above cell should be the following:\n",
    "    \n",
    "    \n",
    "    (22, 10)       \n",
    "    (22,)        \n",
    "    (10, 10)       \n",
    "    (10,)"
   ]
  },
  {
   "cell_type": "markdown",
   "metadata": {},
   "source": [
    "# Linear Regression "
   ]
  },
  {
   "cell_type": "code",
   "execution_count": null,
   "metadata": {},
   "outputs": [],
   "source": [
    "# create an object of LinearRegression class\n",
    "lin_reg=LinearRegression()\n",
    "# fit the model on training data\n",
    "lin_reg.fit(<<'your code here'>>)\n",
    "# predict y_test using the trained model\n",
    "y_pred=lin_reg.predict(x_test)\n",
    "\n",
    "\n",
    "# calculate mse and r2 score\n",
    "lin2_mse,lin2_r2=performance_measure(<<'your code here'>>)\n",
    "print('Mean Squared Error :',round(lin2_mse,4))\n",
    "print('R^2 Score :',round(lin2_r2,4))"
   ]
  },
  {
   "cell_type": "markdown",
   "metadata": {},
   "source": [
    "The expected output from the above cell should  be:\n",
    "    \n",
    "    \n",
    "Mean Squared Error : 0.52\n",
    "\n",
    "\n",
    "R^2 Score : -0.8419\n",
    "\n",
    "\n",
    "**Note: The value of the output may vary slightly due to running the code on a different system but that's okay.**\n",
    "\n",
    "Also, the negative value of the r^2 score suggests that the model has a very poor fit."
   ]
  },
  {
   "cell_type": "code",
   "execution_count": null,
   "metadata": {},
   "outputs": [],
   "source": [
    "# Visualising the variable coefficients using a bar graph.\n",
    "col=['cyl','disp','hp','drat','wt','qsec','vs','am','gear','carb']\n",
    "coef = pd.Series(lin_reg.coef_,col).sort_values()\n",
    "plt.figure(figsize=(14,7))\n",
    "coef.plot(kind='bar', title='Variable Coefficients')\n",
    "plt.show()"
   ]
  },
  {
   "cell_type": "markdown",
   "metadata": {},
   "source": [
    "# Ridge Regression"
   ]
  },
  {
   "cell_type": "code",
   "execution_count": null,
   "metadata": {},
   "outputs": [],
   "source": [
    "# creating an object of Ridge class and then performing ridge regression for various values of alpha\n",
    "ridge_reg2 = Ridge(alpha=0)\n",
    "ridge_reg2.fit(x_train, y_train)\n",
    "ridge_df2 = pd.DataFrame({'variable':['cyl','disp','hp','drat','wt','qsec','vs','am','gear','carb'] , 'estimate': ridge_reg2.coef_})\n",
    "ridge_train_pred2 = []\n",
    "ridge_test_pred2 = []\n",
    "\n",
    "alphas = np.arange(-1,100, 1)\n",
    "\n",
    "for alpha in alphas:\n",
    "    ridge_reg = Ridge(alpha=alpha)\n",
    "    ridge_reg.fit(x_train, y_train)\n",
    "    var_name = 'estimate' + str(alpha)\n",
    "    ridge_df2[var_name] = ridge_reg.coef_\n",
    "    # prediction\n",
    "    ridge_train_pred2.append(ridge_reg.predict(x_train))\n",
    "    ridge_test_pred2.append(ridge_reg.predict(x_test))\n",
    "    \n",
    "ridge_df2 = ridge_df2.set_index('variable').T.rename_axis('estimate').rename_axis(None, axis=1).reset_index()\n",
    "\n",
    "fig, ax = plt.subplots(figsize=(14, 13))\n",
    "ax.plot(ridge_df2.cyl,'b', ridge_df2.disp,'g', ridge_df2.hp,'r', ridge_df2.drat,'c', ridge_df2.wt,'brown', ridge_df2.qsec,'y', \n",
    "        ridge_df2.vs,'k', ridge_df2.am,'coral', ridge_df2.gear,'lime', ridge_df2.carb,'slategray')\n",
    "\n",
    "ax.axhline(y=0, color='black', linestyle='--')\n",
    "ax.set_xlabel(\"Lambda\")\n",
    "ax.set_ylabel(\"Beta Estimate\")\n",
    "ax.set_title(\"Ridge Regression Trace\", fontsize=16)\n",
    "ax.legend(labels=['cyl','disp','hp','drat','wt','qsec','vs','am','gear','carb'])\n",
    "plt.show()"
   ]
  },
  {
   "cell_type": "code",
   "execution_count": null,
   "metadata": {},
   "outputs": [],
   "source": [
    "param = {'alpha': np.arange(0.01, 10, 0.01)}\n",
    "\n",
    "ridge_reg_grid = GridSearchCV(Ridge(), param)\n",
    "ridge_reg_grid.fit(x_train, y_train)\n",
    "ridge_grid_pred = ridge_reg_grid.predict(x_test)\n",
    "\n",
    "print(ridge_reg_grid.best_estimator_)\n",
    "print(\"\\nMean Squared Error :\", round(mean_squared_error(y_test, ridge_grid_pred), 4))\n",
    "print(\"R^2 Score :\", round(r2_score(y_test, ridge_grid_pred), 4))"
   ]
  },
  {
   "cell_type": "code",
   "execution_count": null,
   "metadata": {},
   "outputs": [],
   "source": [
    "# Performing ridge regression with alpha obtained in the previous cell\n",
    "\n",
    "ridge_reg2 = Ridge(alpha=<<'your code here'>>)\n",
    "ridge_reg2.fit(x_train, y_train)\n",
    "y_pred=ridge_reg2.predict(<<'your code here'>>) # predict the value of y_test\n",
    "\n",
    "ridge_mse,ridge_r2=performance_measure(y_test,y_pred)\n",
    "print('Mean Squared Error :',round(ridge_mse,4))\n",
    "print('R^2 Score :',round(ridge_r2,4))"
   ]
  },
  {
   "cell_type": "code",
   "execution_count": null,
   "metadata": {},
   "outputs": [],
   "source": [
    "# Visualising the variable coefficients using a bar graph.\n",
    "col=['cyl','disp','hp','drat','wt','qsec','vs','am','gear','carb']\n",
    "coef = pd.Series(ridge_reg2.coef_,col).sort_values()\n",
    "plt.figure(figsize=(14,7))\n",
    "coef.plot(kind='bar', title='Variable Coefficients')\n",
    "plt.show()"
   ]
  },
  {
   "cell_type": "markdown",
   "metadata": {},
   "source": [
    "You can see that this time for this dataset there is a more prominent difference in the results of the two regression techniques."
   ]
  },
  {
   "cell_type": "code",
   "execution_count": null,
   "metadata": {},
   "outputs": [],
   "source": []
  }
 ],
 "metadata": {
  "kernelspec": {
   "display_name": "Python 3",
   "language": "python",
   "name": "python3"
  },
  "language_info": {
   "codemirror_mode": {
    "name": "ipython",
    "version": 3
   },
   "file_extension": ".py",
   "mimetype": "text/x-python",
   "name": "python",
   "nbconvert_exporter": "python",
   "pygments_lexer": "ipython3",
   "version": "3.7.4"
  }
 },
 "nbformat": 4,
 "nbformat_minor": 2
}
