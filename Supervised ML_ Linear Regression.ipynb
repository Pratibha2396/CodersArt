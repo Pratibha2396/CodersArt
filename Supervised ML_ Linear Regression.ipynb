{
 "cells": [
  {
   "cell_type": "markdown",
   "metadata": {},
   "source": [
    "# Simple Linear Regression"
   ]
  },
  {
   "cell_type": "markdown",
   "metadata": {},
   "source": [
    "**In this regression task we will predict the percentage of marks that a student is expected to score based upon the number of hours they studied. This is a simple linear regression task as it involves just two variables.**\n",
    "\n",
    "First we start by importing important libraries to work with."
   ]
  },
  {
   "cell_type": "code",
   "execution_count": 1,
   "metadata": {},
   "outputs": [],
   "source": [
    "import pandas as pd # to manipulate data using dataframes\n",
    "import numpy as np # to perform mathematical operations on arrays\n",
    "from sklearn.linear_model import LinearRegression # to perform linear regression\n",
    "from sklearn.model_selection import train_test_split # to divide the data into train and test set\n",
    "from sklearn.metrics import mean_absolute_error # to calculate mean absolute error\n",
    "\n",
    "# to visualise the results\n",
    "import seaborn as sns\n",
    "import matplotlib.pyplot as plt\n",
    "%matplotlib inline"
   ]
  },
  {
   "cell_type": "code",
   "execution_count": 2,
   "metadata": {},
   "outputs": [
    {
     "data": {
      "text/html": [
       "<div>\n",
       "<style scoped>\n",
       "    .dataframe tbody tr th:only-of-type {\n",
       "        vertical-align: middle;\n",
       "    }\n",
       "\n",
       "    .dataframe tbody tr th {\n",
       "        vertical-align: top;\n",
       "    }\n",
       "\n",
       "    .dataframe thead th {\n",
       "        text-align: right;\n",
       "    }\n",
       "</style>\n",
       "<table border=\"1\" class=\"dataframe\">\n",
       "  <thead>\n",
       "    <tr style=\"text-align: right;\">\n",
       "      <th></th>\n",
       "      <th>Hours</th>\n",
       "      <th>Scores</th>\n",
       "    </tr>\n",
       "  </thead>\n",
       "  <tbody>\n",
       "    <tr>\n",
       "      <th>0</th>\n",
       "      <td>2.5</td>\n",
       "      <td>21</td>\n",
       "    </tr>\n",
       "    <tr>\n",
       "      <th>1</th>\n",
       "      <td>5.1</td>\n",
       "      <td>47</td>\n",
       "    </tr>\n",
       "    <tr>\n",
       "      <th>2</th>\n",
       "      <td>3.2</td>\n",
       "      <td>27</td>\n",
       "    </tr>\n",
       "    <tr>\n",
       "      <th>3</th>\n",
       "      <td>8.5</td>\n",
       "      <td>75</td>\n",
       "    </tr>\n",
       "    <tr>\n",
       "      <th>4</th>\n",
       "      <td>3.5</td>\n",
       "      <td>30</td>\n",
       "    </tr>\n",
       "  </tbody>\n",
       "</table>\n",
       "</div>"
      ],
      "text/plain": [
       "   Hours  Scores\n",
       "0    2.5      21\n",
       "1    5.1      47\n",
       "2    3.2      27\n",
       "3    8.5      75\n",
       "4    3.5      30"
      ]
     },
     "execution_count": 2,
     "metadata": {},
     "output_type": "execute_result"
    }
   ],
   "source": [
    "# loading the data into a pandas dataframe\n",
    "Data = \"http://bit.ly/w-data\"\n",
    "raw_data = pd.read_csv(Data)\n",
    "\n",
    "raw_data.head()"
   ]
  },
  {
   "cell_type": "markdown",
   "metadata": {},
   "source": [
    "**We can see above that our data has been loaded into a pandas dataframe. There are two columns: Hours and Scores.\n",
    "\"Hours\" represents the no. of hour for which the students have studied and \"Scores\" represent the marks scored by the student corresponding to the no. of hours they have studied.**\n",
    "\n",
    "**We will now visualise this data byt plotting it on a graph.\n",
    "The x axis will correspond to the Hours and y axis will correspond to the Scores.**"
   ]
  },
  {
   "cell_type": "code",
   "execution_count": 3,
   "metadata": {},
   "outputs": [
    {
     "data": {
      "image/png": "[encoded data removed]",
      "text/plain": [
       "<Figure size 1008x504 with 1 Axes>"
      ]
     },
     "metadata": {},
     "output_type": "display_data"
    }
   ],
   "source": [
    "# plotting the datapoints on a graph two visualise the relationship between the two features Hours and Scores.\n",
    "sns.set_style(\"dark\")\n",
    "plt.figure(figsize=(14,7)) # setting the size of the figure\n",
    "plt.scatter(raw_data['Hours'],raw_data['Scores'])     # plotting data points\n",
    "plt.xlabel(\"Hours\")  # naming x-axis\n",
    "plt.ylabel(\"Scores\") # naming y-axis\n",
    "plt.show() # displaying the figure"
   ]
  },
  {
   "cell_type": "markdown",
   "metadata": {},
   "source": [
    "**The above graph shows a clear correlation between Hours and Scores and their relationship is linear. Thus data is relevant and we can move ahead with our task of simple linear regression.**\n",
    "\n",
    "**We will now create two variables with x and y corresponding to Hours and Scores column respectively and they will have the values of the columns Hours and Scores in the form of an array.**"
   ]
  },
  {
   "cell_type": "code",
   "execution_count": 4,
   "metadata": {},
   "outputs": [],
   "source": [
    "# converting the dataframe columns into numpy arrays\n",
    "\n",
    "# x variable corresponds to the Hours\n",
    "x=np.array(raw_data[\"Hours\"]).reshape((-1,1)) # reshaping the data to make it suitable for fitting the regression line\n",
    "# y variable corresponds to the Score\n",
    "y=np.array(raw_data[\"Scores\"])"
   ]
  },
  {
   "cell_type": "code",
   "execution_count": 5,
   "metadata": {},
   "outputs": [
    {
     "name": "stdout",
     "output_type": "stream",
     "text": [
      "(25, 1)\n",
      "(25,)\n"
     ]
    }
   ],
   "source": [
    "# displaying the size of the arrays\n",
    "print(x.shape)\n",
    "print(y.shape)"
   ]
  },
  {
   "cell_type": "markdown",
   "metadata": {},
   "source": [
    "**We will now split this data into train and test set in the ratio 80:20.\n",
    "The train set is used for training the model and the test set is used for measuring the peroformance of the model as this is set is not preknown to the model.**"
   ]
  },
  {
   "cell_type": "code",
   "execution_count": 6,
   "metadata": {},
   "outputs": [],
   "source": [
    "# splitting the data into train and test set\n",
    "x_train,x_test,y_train,y_test=train_test_split(x,y,random_state=0)"
   ]
  },
  {
   "cell_type": "code",
   "execution_count": 7,
   "metadata": {},
   "outputs": [
    {
     "name": "stdout",
     "output_type": "stream",
     "text": [
      "(18, 1)\n",
      "(18,)\n",
      "(7, 1)\n",
      "(7,)\n"
     ]
    }
   ],
   "source": [
    "# displaying the size of the arrays after splitting\n",
    "print(x_train.shape)\n",
    "print(y_train.shape)\n",
    "print(x_test.shape)\n",
    "print(y_test.shape)"
   ]
  },
  {
   "cell_type": "markdown",
   "metadata": {},
   "source": [
    "**We are now ready to perform the regression. We will fit the model using Train set and then we will test the model by using the Test set.**"
   ]
  },
  {
   "cell_type": "code",
   "execution_count": 8,
   "metadata": {},
   "outputs": [
    {
     "data": {
      "text/plain": [
       "LinearRegression()"
      ]
     },
     "execution_count": 8,
     "metadata": {},
     "output_type": "execute_result"
    }
   ],
   "source": [
    "# define the model by creating an object of LinearRegression class.\n",
    "model=LinearRegression()\n",
    "# fit the model on trainig data\n",
    "model.fit(x_train,y_train)"
   ]
  },
  {
   "cell_type": "code",
   "execution_count": 9,
   "metadata": {},
   "outputs": [
    {
     "data": {
      "text/plain": [
       "Text(0.5, 1.0, 'Regression Line')"
      ]
     },
     "execution_count": 9,
     "metadata": {},
     "output_type": "execute_result"
    },
    {
     "data": {
      "image/png": "[encoded data removed]",
      "text/plain": [
       "<Figure size 1008x504 with 1 Axes>"
      ]
     },
     "metadata": {},
     "output_type": "display_data"
    }
   ],
   "source": [
    "# plotting the regression line along with the data\n",
    "plt.figure(figsize=((14,7)))\n",
    "sns.regplot(x, y)\n",
    "plt.xlabel(\"Hours\")\n",
    "plt.ylabel(\"Scores\")\n",
    "plt.title(\"Regression Line\")"
   ]
  },
  {
   "cell_type": "code",
   "execution_count": 10,
   "metadata": {},
   "outputs": [
    {
     "data": {
      "text/plain": [
       "array([16.84472176, 33.74557494, 75.50062397, 26.7864001 , 60.58810646,\n",
       "       39.71058194, 20.8213931 ])"
      ]
     },
     "execution_count": 10,
     "metadata": {},
     "output_type": "execute_result"
    }
   ],
   "source": [
    "# predict the model on test data i.e. predict the corresponding values of scores for each value of x_test using the model\n",
    "# trained on x_train and y _train\n",
    "y_pred=model.predict(x_test)\n",
    "y_pred"
   ]
  },
  {
   "cell_type": "markdown",
   "metadata": {},
   "source": [
    "**What needs to be understood is that when we train the model using the train set , the model learns the relationship between x_train and y train and while making predictions the model maps the same relationship between x_test and y_pred.**\n",
    "\n",
    "**Since in this case we already know the true values of scores corresponding to the x_test (i.e. y_test), therefore we can measure the performance of the model by calculating the mean absolute error (one of many metrics that can be used for this purpose).**"
   ]
  },
  {
   "cell_type": "code",
   "execution_count": 11,
   "metadata": {},
   "outputs": [
    {
     "data": {
      "text/plain": [
       "4.130879918502486"
      ]
     },
     "execution_count": 11,
     "metadata": {},
     "output_type": "execute_result"
    }
   ],
   "source": [
    "#calculate the error between the predicted outcome and y_test \n",
    "#This is our measure of model quality, we should try to minimize it for better predictions.\n",
    "MAE=mean_absolute_error(y_test,y_pred)\n",
    "MAE"
   ]
  },
  {
   "cell_type": "markdown",
   "metadata": {},
   "source": [
    "**MAKING PREDICTIONS**\n",
    "\n",
    "**We will now predict the score of a student who studied for 9.25 hours based on our model.**"
   ]
  },
  {
   "cell_type": "code",
   "execution_count": 12,
   "metadata": {},
   "outputs": [],
   "source": [
    "x_new=np.array([9.25]).reshape((-1,1)) # setting the value of x as 9.25\n",
    "y_new=model.predict(x_new) # predicting the score"
   ]
  },
  {
   "cell_type": "code",
   "execution_count": 13,
   "metadata": {},
   "outputs": [
    {
     "name": "stdout",
     "output_type": "stream",
     "text": [
      " For 9.25 Hours, the predicted Score is: 93.89272889341655\n"
     ]
    }
   ],
   "source": [
    "print (\" For {} Hours, the predicted Score is: {}\".format(x_new[0][0],y_new[0]))"
   ]
  }
 ],
 "metadata": {
  "kernelspec": {
   "display_name": "Python 3",
   "language": "python",
   "name": "python3"
  },
  "language_info": {
   "codemirror_mode": {
    "name": "ipython",
    "version": 3
   },
   "file_extension": ".py",
   "mimetype": "text/x-python",
   "name": "python",
   "nbconvert_exporter": "python",
   "pygments_lexer": "ipython3",
   "version": "3.7.4"
  }
 },
 "nbformat": 4,
 "nbformat_minor": 2
}
