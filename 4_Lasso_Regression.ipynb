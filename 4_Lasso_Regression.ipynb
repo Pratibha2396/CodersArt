{
 "cells": [
  {
   "cell_type": "markdown",
   "metadata": {},
   "source": [
    "# LASSO REGRESSION\n",
    "\n",
    "LASSO stands for Least Absolute Shrinkage and Selection Operator.\n",
    "\n",
    "We will implement Lasso Regression to the widely known data set Boston House Price to look into the properties of the regression method. We should standardize the scale for the assumption of Ridge Regression."
   ]
  },
  {
   "cell_type": "code",
   "execution_count": 1,
   "metadata": {},
   "outputs": [],
   "source": [
    "import numpy as np\n",
    "import pandas as pd\n",
    "import matplotlib.pyplot as plt\n",
    "import matplotlib.ticker as ticker\n",
    "\n",
    "from sklearn.datasets import load_boston\n",
    "from sklearn import preprocessing\n",
    "from sklearn.model_selection import train_test_split, GridSearchCV\n",
    "from sklearn.metrics import r2_score, mean_squared_error\n",
    "from sklearn.linear_model import LinearRegression, Lasso"
   ]
  },
  {
   "cell_type": "markdown",
   "metadata": {},
   "source": [
    "# Example 1"
   ]
  },
  {
   "cell_type": "code",
   "execution_count": 2,
   "metadata": {},
   "outputs": [],
   "source": [
    "# helper function to calculate performance measure\n",
    "def performance_measure(y_true,y_pred):\n",
    "    \n",
    "    mse=mean_squared_error(y_true,y_pred)\n",
    "    r2=r2_score(y_true,y_pred)\n",
    "   \n",
    "    return mse,r2"
   ]
  },
  {
   "cell_type": "markdown",
   "metadata": {},
   "source": [
    "The dataset is available in scikit-learn library."
   ]
  },
  {
   "cell_type": "code",
   "execution_count": 3,
   "metadata": {},
   "outputs": [
    {
     "data": {
      "text/html": [
       "<div>\n",
       "<style scoped>\n",
       "    .dataframe tbody tr th:only-of-type {\n",
       "        vertical-align: middle;\n",
       "    }\n",
       "\n",
       "    .dataframe tbody tr th {\n",
       "        vertical-align: top;\n",
       "    }\n",
       "\n",
       "    .dataframe thead th {\n",
       "        text-align: right;\n",
       "    }\n",
       "</style>\n",
       "<table border=\"1\" class=\"dataframe\">\n",
       "  <thead>\n",
       "    <tr style=\"text-align: right;\">\n",
       "      <th></th>\n",
       "      <th>CRIM</th>\n",
       "      <th>ZN</th>\n",
       "      <th>INDUS</th>\n",
       "      <th>CHAS</th>\n",
       "      <th>NOX</th>\n",
       "      <th>RM</th>\n",
       "      <th>AGE</th>\n",
       "      <th>DIS</th>\n",
       "      <th>RAD</th>\n",
       "      <th>TAX</th>\n",
       "      <th>PTRATIO</th>\n",
       "      <th>B</th>\n",
       "      <th>LSTAT</th>\n",
       "      <th>PRICE</th>\n",
       "    </tr>\n",
       "  </thead>\n",
       "  <tbody>\n",
       "    <tr>\n",
       "      <th>0</th>\n",
       "      <td>0.00632</td>\n",
       "      <td>18.0</td>\n",
       "      <td>2.31</td>\n",
       "      <td>0.0</td>\n",
       "      <td>0.538</td>\n",
       "      <td>6.575</td>\n",
       "      <td>65.2</td>\n",
       "      <td>4.0900</td>\n",
       "      <td>1.0</td>\n",
       "      <td>296.0</td>\n",
       "      <td>15.3</td>\n",
       "      <td>396.90</td>\n",
       "      <td>4.98</td>\n",
       "      <td>24.0</td>\n",
       "    </tr>\n",
       "    <tr>\n",
       "      <th>1</th>\n",
       "      <td>0.02731</td>\n",
       "      <td>0.0</td>\n",
       "      <td>7.07</td>\n",
       "      <td>0.0</td>\n",
       "      <td>0.469</td>\n",
       "      <td>6.421</td>\n",
       "      <td>78.9</td>\n",
       "      <td>4.9671</td>\n",
       "      <td>2.0</td>\n",
       "      <td>242.0</td>\n",
       "      <td>17.8</td>\n",
       "      <td>396.90</td>\n",
       "      <td>9.14</td>\n",
       "      <td>21.6</td>\n",
       "    </tr>\n",
       "    <tr>\n",
       "      <th>2</th>\n",
       "      <td>0.02729</td>\n",
       "      <td>0.0</td>\n",
       "      <td>7.07</td>\n",
       "      <td>0.0</td>\n",
       "      <td>0.469</td>\n",
       "      <td>7.185</td>\n",
       "      <td>61.1</td>\n",
       "      <td>4.9671</td>\n",
       "      <td>2.0</td>\n",
       "      <td>242.0</td>\n",
       "      <td>17.8</td>\n",
       "      <td>392.83</td>\n",
       "      <td>4.03</td>\n",
       "      <td>34.7</td>\n",
       "    </tr>\n",
       "    <tr>\n",
       "      <th>3</th>\n",
       "      <td>0.03237</td>\n",
       "      <td>0.0</td>\n",
       "      <td>2.18</td>\n",
       "      <td>0.0</td>\n",
       "      <td>0.458</td>\n",
       "      <td>6.998</td>\n",
       "      <td>45.8</td>\n",
       "      <td>6.0622</td>\n",
       "      <td>3.0</td>\n",
       "      <td>222.0</td>\n",
       "      <td>18.7</td>\n",
       "      <td>394.63</td>\n",
       "      <td>2.94</td>\n",
       "      <td>33.4</td>\n",
       "    </tr>\n",
       "    <tr>\n",
       "      <th>4</th>\n",
       "      <td>0.06905</td>\n",
       "      <td>0.0</td>\n",
       "      <td>2.18</td>\n",
       "      <td>0.0</td>\n",
       "      <td>0.458</td>\n",
       "      <td>7.147</td>\n",
       "      <td>54.2</td>\n",
       "      <td>6.0622</td>\n",
       "      <td>3.0</td>\n",
       "      <td>222.0</td>\n",
       "      <td>18.7</td>\n",
       "      <td>396.90</td>\n",
       "      <td>5.33</td>\n",
       "      <td>36.2</td>\n",
       "    </tr>\n",
       "    <tr>\n",
       "      <th>5</th>\n",
       "      <td>0.02985</td>\n",
       "      <td>0.0</td>\n",
       "      <td>2.18</td>\n",
       "      <td>0.0</td>\n",
       "      <td>0.458</td>\n",
       "      <td>6.430</td>\n",
       "      <td>58.7</td>\n",
       "      <td>6.0622</td>\n",
       "      <td>3.0</td>\n",
       "      <td>222.0</td>\n",
       "      <td>18.7</td>\n",
       "      <td>394.12</td>\n",
       "      <td>5.21</td>\n",
       "      <td>28.7</td>\n",
       "    </tr>\n",
       "    <tr>\n",
       "      <th>6</th>\n",
       "      <td>0.08829</td>\n",
       "      <td>12.5</td>\n",
       "      <td>7.87</td>\n",
       "      <td>0.0</td>\n",
       "      <td>0.524</td>\n",
       "      <td>6.012</td>\n",
       "      <td>66.6</td>\n",
       "      <td>5.5605</td>\n",
       "      <td>5.0</td>\n",
       "      <td>311.0</td>\n",
       "      <td>15.2</td>\n",
       "      <td>395.60</td>\n",
       "      <td>12.43</td>\n",
       "      <td>22.9</td>\n",
       "    </tr>\n",
       "    <tr>\n",
       "      <th>7</th>\n",
       "      <td>0.14455</td>\n",
       "      <td>12.5</td>\n",
       "      <td>7.87</td>\n",
       "      <td>0.0</td>\n",
       "      <td>0.524</td>\n",
       "      <td>6.172</td>\n",
       "      <td>96.1</td>\n",
       "      <td>5.9505</td>\n",
       "      <td>5.0</td>\n",
       "      <td>311.0</td>\n",
       "      <td>15.2</td>\n",
       "      <td>396.90</td>\n",
       "      <td>19.15</td>\n",
       "      <td>27.1</td>\n",
       "    </tr>\n",
       "    <tr>\n",
       "      <th>8</th>\n",
       "      <td>0.21124</td>\n",
       "      <td>12.5</td>\n",
       "      <td>7.87</td>\n",
       "      <td>0.0</td>\n",
       "      <td>0.524</td>\n",
       "      <td>5.631</td>\n",
       "      <td>100.0</td>\n",
       "      <td>6.0821</td>\n",
       "      <td>5.0</td>\n",
       "      <td>311.0</td>\n",
       "      <td>15.2</td>\n",
       "      <td>386.63</td>\n",
       "      <td>29.93</td>\n",
       "      <td>16.5</td>\n",
       "    </tr>\n",
       "    <tr>\n",
       "      <th>9</th>\n",
       "      <td>0.17004</td>\n",
       "      <td>12.5</td>\n",
       "      <td>7.87</td>\n",
       "      <td>0.0</td>\n",
       "      <td>0.524</td>\n",
       "      <td>6.004</td>\n",
       "      <td>85.9</td>\n",
       "      <td>6.5921</td>\n",
       "      <td>5.0</td>\n",
       "      <td>311.0</td>\n",
       "      <td>15.2</td>\n",
       "      <td>386.71</td>\n",
       "      <td>17.10</td>\n",
       "      <td>18.9</td>\n",
       "    </tr>\n",
       "  </tbody>\n",
       "</table>\n",
       "</div>"
      ],
      "text/plain": [
       "      CRIM    ZN  INDUS  CHAS    NOX     RM    AGE     DIS  RAD    TAX  \\\n",
       "0  0.00632  18.0   2.31   0.0  0.538  6.575   65.2  4.0900  1.0  296.0   \n",
       "1  0.02731   0.0   7.07   0.0  0.469  6.421   78.9  4.9671  2.0  242.0   \n",
       "2  0.02729   0.0   7.07   0.0  0.469  7.185   61.1  4.9671  2.0  242.0   \n",
       "3  0.03237   0.0   2.18   0.0  0.458  6.998   45.8  6.0622  3.0  222.0   \n",
       "4  0.06905   0.0   2.18   0.0  0.458  7.147   54.2  6.0622  3.0  222.0   \n",
       "5  0.02985   0.0   2.18   0.0  0.458  6.430   58.7  6.0622  3.0  222.0   \n",
       "6  0.08829  12.5   7.87   0.0  0.524  6.012   66.6  5.5605  5.0  311.0   \n",
       "7  0.14455  12.5   7.87   0.0  0.524  6.172   96.1  5.9505  5.0  311.0   \n",
       "8  0.21124  12.5   7.87   0.0  0.524  5.631  100.0  6.0821  5.0  311.0   \n",
       "9  0.17004  12.5   7.87   0.0  0.524  6.004   85.9  6.5921  5.0  311.0   \n",
       "\n",
       "   PTRATIO       B  LSTAT  PRICE  \n",
       "0     15.3  396.90   4.98   24.0  \n",
       "1     17.8  396.90   9.14   21.6  \n",
       "2     17.8  392.83   4.03   34.7  \n",
       "3     18.7  394.63   2.94   33.4  \n",
       "4     18.7  396.90   5.33   36.2  \n",
       "5     18.7  394.12   5.21   28.7  \n",
       "6     15.2  395.60  12.43   22.9  \n",
       "7     15.2  396.90  19.15   27.1  \n",
       "8     15.2  386.63  29.93   16.5  \n",
       "9     15.2  386.71  17.10   18.9  "
      ]
     },
     "execution_count": 3,
     "metadata": {},
     "output_type": "execute_result"
    }
   ],
   "source": [
    "# loading the dataset into a pandas dataframe.\n",
    "house_price = load_boston()\n",
    "df = pd.DataFrame(house_price.data, columns=house_price.feature_names)\n",
    "df['PRICE'] = house_price.target\n",
    "df.head(10)"
   ]
  },
  {
   "cell_type": "code",
   "execution_count": 4,
   "metadata": {},
   "outputs": [
    {
     "name": "stdout",
     "output_type": "stream",
     "text": [
      "<class 'pandas.core.frame.DataFrame'>\n",
      "RangeIndex: 506 entries, 0 to 505\n",
      "Data columns (total 14 columns):\n",
      " #   Column   Non-Null Count  Dtype  \n",
      "---  ------   --------------  -----  \n",
      " 0   CRIM     506 non-null    float64\n",
      " 1   ZN       506 non-null    float64\n",
      " 2   INDUS    506 non-null    float64\n",
      " 3   CHAS     506 non-null    float64\n",
      " 4   NOX      506 non-null    float64\n",
      " 5   RM       506 non-null    float64\n",
      " 6   AGE      506 non-null    float64\n",
      " 7   DIS      506 non-null    float64\n",
      " 8   RAD      506 non-null    float64\n",
      " 9   TAX      506 non-null    float64\n",
      " 10  PTRATIO  506 non-null    float64\n",
      " 11  B        506 non-null    float64\n",
      " 12  LSTAT    506 non-null    float64\n",
      " 13  PRICE    506 non-null    float64\n",
      "dtypes: float64(14)\n",
      "memory usage: 55.4 KB\n"
     ]
    }
   ],
   "source": [
    "df.info()"
   ]
  },
  {
   "cell_type": "code",
   "execution_count": 5,
   "metadata": {},
   "outputs": [],
   "source": [
    "# separating independent and dependent variables\n",
    "x=df.drop('PRICE',axis=1)\n",
    "y=df['PRICE']"
   ]
  },
  {
   "cell_type": "code",
   "execution_count": 6,
   "metadata": {},
   "outputs": [],
   "source": [
    "# standardize the data\n",
    "scaler=preprocessing.StandardScaler()\n",
    "x_scaled=scaler.fit_transform(x)\n",
    "y_scaled=scaler.fit_transform(y.values.reshape(-1,1))"
   ]
  },
  {
   "cell_type": "markdown",
   "metadata": {},
   "source": [
    "We have scaled our data to make it more suitable for training the model. Now we will split the dataset into train and test set in the ratio 70:30"
   ]
  },
  {
   "cell_type": "code",
   "execution_count": 7,
   "metadata": {},
   "outputs": [],
   "source": [
    "# train/test split\n",
    "X_train, X_test, y_train, y_test = train_test_split(x_scaled, y_scaled.flatten(), test_size=0.3, random_state=10)"
   ]
  },
  {
   "cell_type": "code",
   "execution_count": 8,
   "metadata": {},
   "outputs": [
    {
     "name": "stdout",
     "output_type": "stream",
     "text": [
      "(354, 13)\n",
      "(354,)\n",
      "(152, 13)\n",
      "(152,)\n"
     ]
    }
   ],
   "source": [
    "print(X_train.shape)\n",
    "print(y_train.shape)\n",
    "print(X_test.shape)\n",
    "print(y_test.shape)"
   ]
  },
  {
   "cell_type": "markdown",
   "metadata": {},
   "source": [
    "#  Linear Regression with OLS Method\n",
    "\n",
    "In general the Linear regression follows OLS method to find the best fit. We are just mentioning it here to point out the difference between Linear and Ridge regression as they work along the same line but with a difference in their method."
   ]
  },
  {
   "cell_type": "code",
   "execution_count": 9,
   "metadata": {},
   "outputs": [
    {
     "data": {
      "text/html": [
       "<div>\n",
       "<style scoped>\n",
       "    .dataframe tbody tr th:only-of-type {\n",
       "        vertical-align: middle;\n",
       "    }\n",
       "\n",
       "    .dataframe tbody tr th {\n",
       "        vertical-align: top;\n",
       "    }\n",
       "\n",
       "    .dataframe thead th {\n",
       "        text-align: right;\n",
       "    }\n",
       "</style>\n",
       "<table border=\"1\" class=\"dataframe\">\n",
       "  <thead>\n",
       "    <tr style=\"text-align: right;\">\n",
       "      <th></th>\n",
       "      <th>variable</th>\n",
       "      <th>coefficient</th>\n",
       "    </tr>\n",
       "  </thead>\n",
       "  <tbody>\n",
       "    <tr>\n",
       "      <th>0</th>\n",
       "      <td>CRIM</td>\n",
       "      <td>-0.143818</td>\n",
       "    </tr>\n",
       "    <tr>\n",
       "      <th>1</th>\n",
       "      <td>ZN</td>\n",
       "      <td>0.164870</td>\n",
       "    </tr>\n",
       "    <tr>\n",
       "      <th>2</th>\n",
       "      <td>INDUS</td>\n",
       "      <td>-0.018096</td>\n",
       "    </tr>\n",
       "    <tr>\n",
       "      <th>3</th>\n",
       "      <td>CHAS</td>\n",
       "      <td>0.044795</td>\n",
       "    </tr>\n",
       "    <tr>\n",
       "      <th>4</th>\n",
       "      <td>NOX</td>\n",
       "      <td>-0.192769</td>\n",
       "    </tr>\n",
       "    <tr>\n",
       "      <th>5</th>\n",
       "      <td>RM</td>\n",
       "      <td>0.256075</td>\n",
       "    </tr>\n",
       "    <tr>\n",
       "      <th>6</th>\n",
       "      <td>AGE</td>\n",
       "      <td>0.034665</td>\n",
       "    </tr>\n",
       "    <tr>\n",
       "      <th>7</th>\n",
       "      <td>DIS</td>\n",
       "      <td>-0.354445</td>\n",
       "    </tr>\n",
       "    <tr>\n",
       "      <th>8</th>\n",
       "      <td>RAD</td>\n",
       "      <td>0.286523</td>\n",
       "    </tr>\n",
       "    <tr>\n",
       "      <th>9</th>\n",
       "      <td>TAX</td>\n",
       "      <td>-0.224147</td>\n",
       "    </tr>\n",
       "    <tr>\n",
       "      <th>10</th>\n",
       "      <td>PTRATIO</td>\n",
       "      <td>-0.191032</td>\n",
       "    </tr>\n",
       "    <tr>\n",
       "      <th>11</th>\n",
       "      <td>B</td>\n",
       "      <td>0.128553</td>\n",
       "    </tr>\n",
       "    <tr>\n",
       "      <th>12</th>\n",
       "      <td>LSTAT</td>\n",
       "      <td>-0.423056</td>\n",
       "    </tr>\n",
       "  </tbody>\n",
       "</table>\n",
       "</div>"
      ],
      "text/plain": [
       "   variable  coefficient\n",
       "0      CRIM    -0.143818\n",
       "1        ZN     0.164870\n",
       "2     INDUS    -0.018096\n",
       "3      CHAS     0.044795\n",
       "4       NOX    -0.192769\n",
       "5        RM     0.256075\n",
       "6       AGE     0.034665\n",
       "7       DIS    -0.354445\n",
       "8       RAD     0.286523\n",
       "9       TAX    -0.224147\n",
       "10  PTRATIO    -0.191032\n",
       "11        B     0.128553\n",
       "12    LSTAT    -0.423056"
      ]
     },
     "execution_count": 9,
     "metadata": {},
     "output_type": "execute_result"
    }
   ],
   "source": [
    "# performing Linear Regression\n",
    "ols_reg = LinearRegression()       # created an object of Linear Regression Class\n",
    "ols_reg.fit(X_train, y_train)      # fitted the model in training data\n",
    "ols_pred = ols_reg.predict(X_test) # made prediction using the model\n",
    "\n",
    "# creating a dataframe to list the variables and their coefficients.\n",
    "pd.DataFrame({'variable': house_price.feature_names, 'coefficient': ols_reg.coef_})"
   ]
  },
  {
   "cell_type": "code",
   "execution_count": 10,
   "metadata": {},
   "outputs": [
    {
     "data": {
      "image/png": "[encoded data removed]",
      "text/plain": [
       "<Figure size 1008x504 with 1 Axes>"
      ]
     },
     "metadata": {
      "needs_background": "light"
     },
     "output_type": "display_data"
    }
   ],
   "source": [
    "# Visualising the variable coefficients using a bar graph.\n",
    "coef = pd.Series(ols_reg.coef_,house_price.feature_names).sort_values()\n",
    "plt.figure(figsize=(14,7))\n",
    "coef.plot(kind='bar', title='Variable Coefficients')\n",
    "plt.show()"
   ]
  },
  {
   "cell_type": "markdown",
   "metadata": {},
   "source": [
    "The bars that have more value in either direction contribute more to the prediction performance of the model."
   ]
  },
  {
   "cell_type": "code",
   "execution_count": 11,
   "metadata": {},
   "outputs": [
    {
     "name": "stdout",
     "output_type": "stream",
     "text": [
      "Mean Squared Error : 0.3473910295367197\n",
      "R^2 Score : 0.6996255772983112\n"
     ]
    }
   ],
   "source": [
    "# calculating performance measure of the model \n",
    "lin_mse,lin_r2=performance_measure(y_test,ols_pred)\n",
    "print('Mean Squared Error :',lin_mse)\n",
    "print('R^2 Score :',lin_r2)"
   ]
  },
  {
   "cell_type": "markdown",
   "metadata": {},
   "source": [
    "In Lasso Regression choosing the value of alpha correctly is very important. We will first see the variable coefficient for different values of alpha in Lasso regression. We will visualise how the values of coefficients change with an increasing value of alpha and we will observe the fact that in Lasso regression the coefficients are made very small or exactly zero to reduce the complexity of the model."
   ]
  },
  {
   "cell_type": "code",
   "execution_count": 12,
   "metadata": {},
   "outputs": [
    {
     "data": {
      "image/png": "[encoded data removed]",
      "text/plain": [
       "<Figure size 1008x936 with 1 Axes>"
      ]
     },
     "metadata": {
      "needs_background": "light"
     },
     "output_type": "display_data"
    }
   ],
   "source": [
    "# creating an object of Lasso class and then performing Lasso regression for various values of alpha\n",
    "lasso_reg = Lasso(alpha=1)\n",
    "lasso_reg.fit(X_train, y_train)\n",
    "lasso_df = pd.DataFrame({'variable': house_price.feature_names, 'estimate': lasso_reg.coef_})\n",
    "lasso_train_pred = []\n",
    "lasso_test_pred = []\n",
    "\n",
    "alphas = np.arange(0.01, 4.01, 0.04)\n",
    "\n",
    "for alpha in alphas:\n",
    "    lasso_reg = Lasso(alpha=alpha)\n",
    "    lasso_reg.fit(X_train, y_train)\n",
    "    var_name = 'estimate' + str(alpha)\n",
    "    lasso_df[var_name] = lasso_reg.coef_\n",
    "    # prediction\n",
    "    lasso_train_pred.append(lasso_reg.predict(X_train))\n",
    "    lasso_test_pred.append(lasso_reg.predict(X_test))\n",
    "\n",
    "lasso_df = lasso_df.set_index('variable').T.rename_axis('estimate').rename_axis(None, axis=1).reset_index()\n",
    "\n",
    "fig, ax = plt.subplots(figsize=(14, 13))\n",
    "\n",
    "ax.plot(lasso_df.CRIM,'b', lasso_df.ZN,'g', lasso_df.INDUS,'r', lasso_df.CHAS,'c', lasso_df.NOX,'brown', lasso_df.RM,'y', \n",
    "        lasso_df.AGE,'k', lasso_df.DIS,'coral', lasso_df.RAD,'lime', lasso_df.TAX,'slategray', lasso_df.PTRATIO,'orchid',\n",
    "        lasso_df.B,'skyblue', lasso_df.LSTAT,'orange')\n",
    "\n",
    "ax.set_xlabel(\"Alpha\")\n",
    "ax.set_xticklabels(np.arange(-1, 10, 1))\n",
    "ax.set_ylabel(\"Beta Estimate\")\n",
    "ax.set_title(\"Lasso Regression Trace\", fontsize=16)\n",
    "ax.legend(labels=house_price.feature_names,loc='upper right')\n",
    "ax.grid(True)"
   ]
  },
  {
   "cell_type": "markdown",
   "metadata": {},
   "source": [
    "We can observe in the above graph that, unlike Ridge Regression, the $\\beta$'s hit zero, which means some features get cast out after a certain point (feature selection). Recalling the equation, This is why Lasso Regression has an advantage in feature selection. If you would compare this graph with the one in Ridge Regression then you will notice that \"Room\" survives longer than others and \"Tax\" becomes null almost upon the iteration."
   ]
  },
  {
   "cell_type": "code",
   "execution_count": 13,
   "metadata": {},
   "outputs": [
    {
     "data": {
      "text/html": [
       "<div>\n",
       "<style scoped>\n",
       "    .dataframe tbody tr th:only-of-type {\n",
       "        vertical-align: middle;\n",
       "    }\n",
       "\n",
       "    .dataframe tbody tr th {\n",
       "        vertical-align: top;\n",
       "    }\n",
       "\n",
       "    .dataframe thead th {\n",
       "        text-align: right;\n",
       "    }\n",
       "</style>\n",
       "<table border=\"1\" class=\"dataframe\">\n",
       "  <thead>\n",
       "    <tr style=\"text-align: right;\">\n",
       "      <th></th>\n",
       "      <th>estimate</th>\n",
       "      <th>CRIM</th>\n",
       "      <th>ZN</th>\n",
       "      <th>INDUS</th>\n",
       "      <th>CHAS</th>\n",
       "      <th>NOX</th>\n",
       "      <th>RM</th>\n",
       "      <th>AGE</th>\n",
       "      <th>DIS</th>\n",
       "      <th>RAD</th>\n",
       "      <th>TAX</th>\n",
       "      <th>PTRATIO</th>\n",
       "      <th>B</th>\n",
       "      <th>LSTAT</th>\n",
       "    </tr>\n",
       "  </thead>\n",
       "  <tbody>\n",
       "    <tr>\n",
       "      <th>0</th>\n",
       "      <td>estimate</td>\n",
       "      <td>-0.000000</td>\n",
       "      <td>0.000000</td>\n",
       "      <td>-0.000000</td>\n",
       "      <td>0.000000</td>\n",
       "      <td>-0.000000</td>\n",
       "      <td>0.000000</td>\n",
       "      <td>-0.0</td>\n",
       "      <td>0.000000</td>\n",
       "      <td>-0.000000</td>\n",
       "      <td>-0.000000</td>\n",
       "      <td>-0.000000</td>\n",
       "      <td>0.000000</td>\n",
       "      <td>-0.000000</td>\n",
       "    </tr>\n",
       "    <tr>\n",
       "      <th>1</th>\n",
       "      <td>estimate0.01</td>\n",
       "      <td>-0.110512</td>\n",
       "      <td>0.127233</td>\n",
       "      <td>-0.020899</td>\n",
       "      <td>0.041368</td>\n",
       "      <td>-0.132694</td>\n",
       "      <td>0.278220</td>\n",
       "      <td>0.0</td>\n",
       "      <td>-0.290637</td>\n",
       "      <td>0.144976</td>\n",
       "      <td>-0.110928</td>\n",
       "      <td>-0.175352</td>\n",
       "      <td>0.121118</td>\n",
       "      <td>-0.412662</td>\n",
       "    </tr>\n",
       "    <tr>\n",
       "      <th>2</th>\n",
       "      <td>estimate0.05</td>\n",
       "      <td>-0.038915</td>\n",
       "      <td>0.009442</td>\n",
       "      <td>-0.000000</td>\n",
       "      <td>0.006329</td>\n",
       "      <td>-0.000000</td>\n",
       "      <td>0.306491</td>\n",
       "      <td>-0.0</td>\n",
       "      <td>-0.031939</td>\n",
       "      <td>-0.000000</td>\n",
       "      <td>-0.000000</td>\n",
       "      <td>-0.159509</td>\n",
       "      <td>0.098336</td>\n",
       "      <td>-0.401123</td>\n",
       "    </tr>\n",
       "    <tr>\n",
       "      <th>3</th>\n",
       "      <td>estimate0.09</td>\n",
       "      <td>-0.006659</td>\n",
       "      <td>0.000000</td>\n",
       "      <td>-0.000000</td>\n",
       "      <td>0.000000</td>\n",
       "      <td>-0.000000</td>\n",
       "      <td>0.277203</td>\n",
       "      <td>-0.0</td>\n",
       "      <td>-0.000000</td>\n",
       "      <td>-0.000000</td>\n",
       "      <td>-0.000000</td>\n",
       "      <td>-0.141661</td>\n",
       "      <td>0.069244</td>\n",
       "      <td>-0.393578</td>\n",
       "    </tr>\n",
       "    <tr>\n",
       "      <th>4</th>\n",
       "      <td>estimate0.13</td>\n",
       "      <td>-0.000000</td>\n",
       "      <td>0.000000</td>\n",
       "      <td>-0.000000</td>\n",
       "      <td>0.000000</td>\n",
       "      <td>-0.000000</td>\n",
       "      <td>0.244195</td>\n",
       "      <td>-0.0</td>\n",
       "      <td>-0.000000</td>\n",
       "      <td>-0.000000</td>\n",
       "      <td>-0.000000</td>\n",
       "      <td>-0.119765</td>\n",
       "      <td>0.038959</td>\n",
       "      <td>-0.392558</td>\n",
       "    </tr>\n",
       "    <tr>\n",
       "      <th>...</th>\n",
       "      <td>...</td>\n",
       "      <td>...</td>\n",
       "      <td>...</td>\n",
       "      <td>...</td>\n",
       "      <td>...</td>\n",
       "      <td>...</td>\n",
       "      <td>...</td>\n",
       "      <td>...</td>\n",
       "      <td>...</td>\n",
       "      <td>...</td>\n",
       "      <td>...</td>\n",
       "      <td>...</td>\n",
       "      <td>...</td>\n",
       "      <td>...</td>\n",
       "    </tr>\n",
       "    <tr>\n",
       "      <th>96</th>\n",
       "      <td>estimate3.81</td>\n",
       "      <td>-0.000000</td>\n",
       "      <td>0.000000</td>\n",
       "      <td>-0.000000</td>\n",
       "      <td>0.000000</td>\n",
       "      <td>-0.000000</td>\n",
       "      <td>0.000000</td>\n",
       "      <td>-0.0</td>\n",
       "      <td>0.000000</td>\n",
       "      <td>-0.000000</td>\n",
       "      <td>-0.000000</td>\n",
       "      <td>-0.000000</td>\n",
       "      <td>0.000000</td>\n",
       "      <td>-0.000000</td>\n",
       "    </tr>\n",
       "    <tr>\n",
       "      <th>97</th>\n",
       "      <td>estimate3.8499999999999996</td>\n",
       "      <td>-0.000000</td>\n",
       "      <td>0.000000</td>\n",
       "      <td>-0.000000</td>\n",
       "      <td>0.000000</td>\n",
       "      <td>-0.000000</td>\n",
       "      <td>0.000000</td>\n",
       "      <td>-0.0</td>\n",
       "      <td>0.000000</td>\n",
       "      <td>-0.000000</td>\n",
       "      <td>-0.000000</td>\n",
       "      <td>-0.000000</td>\n",
       "      <td>0.000000</td>\n",
       "      <td>-0.000000</td>\n",
       "    </tr>\n",
       "    <tr>\n",
       "      <th>98</th>\n",
       "      <td>estimate3.8899999999999997</td>\n",
       "      <td>-0.000000</td>\n",
       "      <td>0.000000</td>\n",
       "      <td>-0.000000</td>\n",
       "      <td>0.000000</td>\n",
       "      <td>-0.000000</td>\n",
       "      <td>0.000000</td>\n",
       "      <td>-0.0</td>\n",
       "      <td>0.000000</td>\n",
       "      <td>-0.000000</td>\n",
       "      <td>-0.000000</td>\n",
       "      <td>-0.000000</td>\n",
       "      <td>0.000000</td>\n",
       "      <td>-0.000000</td>\n",
       "    </tr>\n",
       "    <tr>\n",
       "      <th>99</th>\n",
       "      <td>estimate3.9299999999999997</td>\n",
       "      <td>-0.000000</td>\n",
       "      <td>0.000000</td>\n",
       "      <td>-0.000000</td>\n",
       "      <td>0.000000</td>\n",
       "      <td>-0.000000</td>\n",
       "      <td>0.000000</td>\n",
       "      <td>-0.0</td>\n",
       "      <td>0.000000</td>\n",
       "      <td>-0.000000</td>\n",
       "      <td>-0.000000</td>\n",
       "      <td>-0.000000</td>\n",
       "      <td>0.000000</td>\n",
       "      <td>-0.000000</td>\n",
       "    </tr>\n",
       "    <tr>\n",
       "      <th>100</th>\n",
       "      <td>estimate3.9699999999999998</td>\n",
       "      <td>-0.000000</td>\n",
       "      <td>0.000000</td>\n",
       "      <td>-0.000000</td>\n",
       "      <td>0.000000</td>\n",
       "      <td>-0.000000</td>\n",
       "      <td>0.000000</td>\n",
       "      <td>-0.0</td>\n",
       "      <td>0.000000</td>\n",
       "      <td>-0.000000</td>\n",
       "      <td>-0.000000</td>\n",
       "      <td>-0.000000</td>\n",
       "      <td>0.000000</td>\n",
       "      <td>-0.000000</td>\n",
       "    </tr>\n",
       "  </tbody>\n",
       "</table>\n",
       "<p>101 rows × 14 columns</p>\n",
       "</div>"
      ],
      "text/plain": [
       "                       estimate      CRIM        ZN     INDUS      CHAS  \\\n",
       "0                      estimate -0.000000  0.000000 -0.000000  0.000000   \n",
       "1                  estimate0.01 -0.110512  0.127233 -0.020899  0.041368   \n",
       "2                  estimate0.05 -0.038915  0.009442 -0.000000  0.006329   \n",
       "3                  estimate0.09 -0.006659  0.000000 -0.000000  0.000000   \n",
       "4                  estimate0.13 -0.000000  0.000000 -0.000000  0.000000   \n",
       "..                          ...       ...       ...       ...       ...   \n",
       "96                 estimate3.81 -0.000000  0.000000 -0.000000  0.000000   \n",
       "97   estimate3.8499999999999996 -0.000000  0.000000 -0.000000  0.000000   \n",
       "98   estimate3.8899999999999997 -0.000000  0.000000 -0.000000  0.000000   \n",
       "99   estimate3.9299999999999997 -0.000000  0.000000 -0.000000  0.000000   \n",
       "100  estimate3.9699999999999998 -0.000000  0.000000 -0.000000  0.000000   \n",
       "\n",
       "          NOX        RM  AGE       DIS       RAD       TAX   PTRATIO  \\\n",
       "0   -0.000000  0.000000 -0.0  0.000000 -0.000000 -0.000000 -0.000000   \n",
       "1   -0.132694  0.278220  0.0 -0.290637  0.144976 -0.110928 -0.175352   \n",
       "2   -0.000000  0.306491 -0.0 -0.031939 -0.000000 -0.000000 -0.159509   \n",
       "3   -0.000000  0.277203 -0.0 -0.000000 -0.000000 -0.000000 -0.141661   \n",
       "4   -0.000000  0.244195 -0.0 -0.000000 -0.000000 -0.000000 -0.119765   \n",
       "..        ...       ...  ...       ...       ...       ...       ...   \n",
       "96  -0.000000  0.000000 -0.0  0.000000 -0.000000 -0.000000 -0.000000   \n",
       "97  -0.000000  0.000000 -0.0  0.000000 -0.000000 -0.000000 -0.000000   \n",
       "98  -0.000000  0.000000 -0.0  0.000000 -0.000000 -0.000000 -0.000000   \n",
       "99  -0.000000  0.000000 -0.0  0.000000 -0.000000 -0.000000 -0.000000   \n",
       "100 -0.000000  0.000000 -0.0  0.000000 -0.000000 -0.000000 -0.000000   \n",
       "\n",
       "            B     LSTAT  \n",
       "0    0.000000 -0.000000  \n",
       "1    0.121118 -0.412662  \n",
       "2    0.098336 -0.401123  \n",
       "3    0.069244 -0.393578  \n",
       "4    0.038959 -0.392558  \n",
       "..        ...       ...  \n",
       "96   0.000000 -0.000000  \n",
       "97   0.000000 -0.000000  \n",
       "98   0.000000 -0.000000  \n",
       "99   0.000000 -0.000000  \n",
       "100  0.000000 -0.000000  \n",
       "\n",
       "[101 rows x 14 columns]"
      ]
     },
     "execution_count": 13,
     "metadata": {},
     "output_type": "execute_result"
    }
   ],
   "source": [
    "lasso_df"
   ]
  },
  {
   "cell_type": "markdown",
   "metadata": {},
   "source": [
    "This dataframe contains values of coefficient of the features (independent variables) for different values of alpha ( i.e. from 0 to 5)."
   ]
  },
  {
   "cell_type": "markdown",
   "metadata": {},
   "source": [
    "# R$^2$ Analysis"
   ]
  },
  {
   "cell_type": "markdown",
   "metadata": {},
   "source": [
    "The r$^2$ score is a measure for analysing the performance of a model. When comparing two models, the higher the value, the better the performance."
   ]
  },
  {
   "cell_type": "code",
   "execution_count": 14,
   "metadata": {},
   "outputs": [
    {
     "data": {
      "text/plain": [
       "(-0.1, 0.75)"
      ]
     },
     "execution_count": 14,
     "metadata": {},
     "output_type": "execute_result"
    },
    {
     "data": {
      "image/png": "[encoded data removed]",
      "text/plain": [
       "<Figure size 1008x504 with 2 Axes>"
      ]
     },
     "metadata": {
      "needs_background": "light"
     },
     "output_type": "display_data"
    }
   ],
   "source": [
    "# R-squared of training set\n",
    "lasso_r_squared_train = [performance_measure(y_train, p)[1] for p in lasso_train_pred]\n",
    "\n",
    "# R-squared of test set\n",
    "lasso_r_squared_test = [performance_measure(y_test, p)[1] for p in lasso_test_pred]\n",
    "\n",
    "# plot R-squared of training and test\n",
    "fig, axes = plt.subplots(1, 2, figsize=(14, 7))\n",
    "plt.rcParams['axes.grid'] = True\n",
    "\n",
    "# training set and test set together\n",
    "axes[0].plot(lasso_r_squared_train, 'b', lasso_r_squared_test, 'r')\n",
    "axes[0].set_title(\"Lasso Regression R-squared\", fontsize=16)\n",
    "axes[0].set_xlabel(\"Model Simplicity$\\longrightarrow$\")\n",
    "\n",
    "# test set curve\n",
    "axes[1].plot(lasso_r_squared_test[:25], 'ro')\n",
    "axes[1].axhline(y=lin_r2, color='g', linestyle='--')\n",
    "axes[1].set_title(\"Lasso Test Set Zoom-in\", fontsize=16)\n",
    "axes[1].set_xlabel(\"Model Simplicity$\\longrightarrow$\")\n",
    "axes[1].set_xlim(-2,25,5)\n",
    "axes[1].set_ylim(-0.1,0.75,0.05)"
   ]
  },
  {
   "cell_type": "markdown",
   "metadata": {},
   "source": [
    "We see the R-squared of test set is located below the R-squared of training set. This is natural because the training set R-squared is calculated based on itself while the test set R-squared is based on the model made from training set.\n",
    "\n",
    "Another point is that the training set R-squared constantly declines as the model gets simpler. Understanding it reversely, we know that training set R-squared should increase as we add more variables, which is called overfitting. From the right plot, however, it seems like the test set R-squared improves as the model becomes simpler. Recalling the definition of overfitting, a simpler model is good for new observations, the test set here."
   ]
  },
  {
   "cell_type": "markdown",
   "metadata": {},
   "source": [
    "# MSE Analysis\n",
    "\n",
    "The Mean Absolute Error (MSE) is a measure for analysing the performance of a model. When comparing two models, the lower the value, the better the performance."
   ]
  },
  {
   "cell_type": "code",
   "execution_count": 15,
   "metadata": {},
   "outputs": [
    {
     "data": {
      "text/plain": [
       "Text(0.5, 0, 'Model Simplicity$\\\\longrightarrow$')"
      ]
     },
     "execution_count": 15,
     "metadata": {},
     "output_type": "execute_result"
    },
    {
     "data": {
      "image/png": "[encoded data removed]",
      "text/plain": [
       "<Figure size 1008x504 with 2 Axes>"
      ]
     },
     "metadata": {
      "needs_background": "light"
     },
     "output_type": "display_data"
    }
   ],
   "source": [
    "# MSE of training set\n",
    "lasso_mse_train = [performance_measure(y_train, p)[0] for p in lasso_train_pred]\n",
    "\n",
    "# MSE of test set\n",
    "lasso_mse_test = [performance_measure(y_test, p)[0] for p in lasso_test_pred]\n",
    "\n",
    "# plot MSE of training and test\n",
    "fig, axes = plt.subplots(1, 2, figsize=(14, 7))\n",
    "plt.rcParams['axes.grid'] = True\n",
    "\n",
    "axes[0].plot(lasso_mse_train, 'b', lasso_mse_test, 'r')\n",
    "axes[0].set_title(\"Lasso Regression MSE\", fontsize=16)\n",
    "axes[0].set_xlabel(\"Model Simplicity$\\longrightarrow$\")\n",
    "\n",
    "# test set curve\n",
    "axes[1].plot(lasso_mse_test[:25], 'ro')\n",
    "axes[1].axhline(y=lin_mse, color='g', linestyle='--')\n",
    "axes[1].set_title(\"Lasso Test Set MSE\", fontsize=16)\n",
    "axes[1].set_xlabel(\"Model Simplicity$\\longrightarrow$\")"
   ]
  },
  {
   "cell_type": "markdown",
   "metadata": {},
   "source": [
    "These plots can be explained in the same way of the R-squared plots, but in the opposite direction. MSE is one of the indicators to measure errors. We can see that the test set MSE has the lowest point approximately around the point (0,0.35). \n",
    "\n",
    "\n",
    "Next, we will find the alpha value (or lambda) for this type of lowest point. Note that the lalpha to be found won't be corresponding to the exact point on the plot above, as we are not trying for a test set specific alpha, we will run a general search for such a value of aplha in a given range that will correspond to the least value of mse and a higher value of r^2 score.\n",
    "\n",
    "\n",
    "For conducting this type of search we will use the GridSearch class available in scikit-learn. Please refer to the documentation link provided  to know more about it: https://scikit-learn.org/stable/modules/generated/sklearn.model_selection.GridSearchCV.html?highlight=gridsearchcv#sklearn.model_selection.GridSearchCV\n",
    "\n",
    "\n",
    "In addition, there are other libraries called RidgeCV and LassoCV. They basically do the same job to loop through values and find the optimal value as done by GridSearchCV but with slightly different mechanism."
   ]
  },
  {
   "cell_type": "code",
   "execution_count": 16,
   "metadata": {},
   "outputs": [
    {
     "name": "stdout",
     "output_type": "stream",
     "text": [
      "Mean Squared Error : 0.3474\n",
      "R^2 Score : 0.6996\n"
     ]
    }
   ],
   "source": [
    "# For comparison we will display the performance measure of Linear Regression here\n",
    "print('Mean Squared Error :',round(lin_mse,4))\n",
    "print('R^2 Score :',round(lin_r2,4))"
   ]
  },
  {
   "cell_type": "code",
   "execution_count": 17,
   "metadata": {},
   "outputs": [
    {
     "name": "stdout",
     "output_type": "stream",
     "text": [
      "Lasso(alpha=0.01)\n",
      "\n",
      "R-Squared: 0.7008\n",
      "MSE: 0.346\n"
     ]
    }
   ],
   "source": [
    "param = {'alpha': np.arange(0.01, 10, 0.01)}\n",
    "\n",
    "lasso_reg = GridSearchCV(Lasso(), param)\n",
    "lasso_reg.fit(X_train, y_train)\n",
    "lasso_pred = lasso_reg.predict(X_test)\n",
    "\n",
    "print(lasso_reg.best_estimator_)\n",
    "print(\"\\nR-Squared:\", round(r2_score(y_test, lasso_pred), 4))\n",
    "print(\"MSE:\", round(mean_squared_error(y_test, lasso_pred), 4))"
   ]
  },
  {
   "cell_type": "markdown",
   "metadata": {},
   "source": [
    "We can observe that the performance of the lasso regression model is slightly better than the performance of linear regression as the MSE has declined a bit and the r^2 score has increased slightly. This change can be more dramatic on some different data set. Try out the comparison on a number of datasets to understand the difference more clearly."
   ]
  },
  {
   "cell_type": "code",
   "execution_count": 18,
   "metadata": {},
   "outputs": [
    {
     "name": "stdout",
     "output_type": "stream",
     "text": [
      "Mean Squared Error : 0.346\n",
      "R^2 Score : 0.7008\n"
     ]
    }
   ],
   "source": [
    "# Performing lasso regression with alpha=0.01\n",
    "lasso_reg2 = Lasso(alpha=0.01)\n",
    "lasso_reg2.fit(X_train, y_train)\n",
    "y_pred=lasso_reg2.predict(X_test)\n",
    "\n",
    "lasso_mse,lasso_r2=performance_measure(y_test,y_pred)\n",
    "print('Mean Squared Error :',round(lasso_mse,4))\n",
    "print('R^2 Score :',round(lasso_r2,4))"
   ]
  },
  {
   "cell_type": "code",
   "execution_count": 19,
   "metadata": {},
   "outputs": [
    {
     "data": {
      "text/html": [
       "<div>\n",
       "<style scoped>\n",
       "    .dataframe tbody tr th:only-of-type {\n",
       "        vertical-align: middle;\n",
       "    }\n",
       "\n",
       "    .dataframe tbody tr th {\n",
       "        vertical-align: top;\n",
       "    }\n",
       "\n",
       "    .dataframe thead th {\n",
       "        text-align: right;\n",
       "    }\n",
       "</style>\n",
       "<table border=\"1\" class=\"dataframe\">\n",
       "  <thead>\n",
       "    <tr style=\"text-align: right;\">\n",
       "      <th></th>\n",
       "      <th>variable</th>\n",
       "      <th>coefficient</th>\n",
       "    </tr>\n",
       "  </thead>\n",
       "  <tbody>\n",
       "    <tr>\n",
       "      <th>0</th>\n",
       "      <td>CRIM</td>\n",
       "      <td>-0.110512</td>\n",
       "    </tr>\n",
       "    <tr>\n",
       "      <th>1</th>\n",
       "      <td>ZN</td>\n",
       "      <td>0.127233</td>\n",
       "    </tr>\n",
       "    <tr>\n",
       "      <th>2</th>\n",
       "      <td>INDUS</td>\n",
       "      <td>-0.020899</td>\n",
       "    </tr>\n",
       "    <tr>\n",
       "      <th>3</th>\n",
       "      <td>CHAS</td>\n",
       "      <td>0.041368</td>\n",
       "    </tr>\n",
       "    <tr>\n",
       "      <th>4</th>\n",
       "      <td>NOX</td>\n",
       "      <td>-0.132694</td>\n",
       "    </tr>\n",
       "    <tr>\n",
       "      <th>5</th>\n",
       "      <td>RM</td>\n",
       "      <td>0.278220</td>\n",
       "    </tr>\n",
       "    <tr>\n",
       "      <th>6</th>\n",
       "      <td>AGE</td>\n",
       "      <td>0.000000</td>\n",
       "    </tr>\n",
       "    <tr>\n",
       "      <th>7</th>\n",
       "      <td>DIS</td>\n",
       "      <td>-0.290637</td>\n",
       "    </tr>\n",
       "    <tr>\n",
       "      <th>8</th>\n",
       "      <td>RAD</td>\n",
       "      <td>0.144976</td>\n",
       "    </tr>\n",
       "    <tr>\n",
       "      <th>9</th>\n",
       "      <td>TAX</td>\n",
       "      <td>-0.110928</td>\n",
       "    </tr>\n",
       "    <tr>\n",
       "      <th>10</th>\n",
       "      <td>PTRATIO</td>\n",
       "      <td>-0.175352</td>\n",
       "    </tr>\n",
       "    <tr>\n",
       "      <th>11</th>\n",
       "      <td>B</td>\n",
       "      <td>0.121118</td>\n",
       "    </tr>\n",
       "    <tr>\n",
       "      <th>12</th>\n",
       "      <td>LSTAT</td>\n",
       "      <td>-0.412662</td>\n",
       "    </tr>\n",
       "  </tbody>\n",
       "</table>\n",
       "</div>"
      ],
      "text/plain": [
       "   variable  coefficient\n",
       "0      CRIM    -0.110512\n",
       "1        ZN     0.127233\n",
       "2     INDUS    -0.020899\n",
       "3      CHAS     0.041368\n",
       "4       NOX    -0.132694\n",
       "5        RM     0.278220\n",
       "6       AGE     0.000000\n",
       "7       DIS    -0.290637\n",
       "8       RAD     0.144976\n",
       "9       TAX    -0.110928\n",
       "10  PTRATIO    -0.175352\n",
       "11        B     0.121118\n",
       "12    LSTAT    -0.412662"
      ]
     },
     "execution_count": 19,
     "metadata": {},
     "output_type": "execute_result"
    }
   ],
   "source": [
    "# creating a dataframe to display the variables along with their coefficients \n",
    "pd.DataFrame({'variable': house_price.feature_names, 'coefficient': lasso_reg2.coef_})"
   ]
  },
  {
   "cell_type": "code",
   "execution_count": 20,
   "metadata": {},
   "outputs": [
    {
     "data": {
      "image/png": "[encoded data removed]",
      "text/plain": [
       "<Figure size 1008x504 with 1 Axes>"
      ]
     },
     "metadata": {
      "needs_background": "light"
     },
     "output_type": "display_data"
    }
   ],
   "source": [
    "# Visualising the variable coefficients using a bar graph.\n",
    "plt.rcParams['axes.grid'] = False\n",
    "coef = pd.Series(lasso_reg2.coef_,house_price.feature_names).sort_values()\n",
    "plt.figure(figsize=(14,7))\n",
    "coef.plot(kind='bar', title='Variable Coefficients')\n",
    "plt.show()"
   ]
  },
  {
   "cell_type": "markdown",
   "metadata": {},
   "source": [
    "We can see that the coefficient of the variable 'AGE' has gone zero i.e. this feature has been dropped."
   ]
  },
  {
   "cell_type": "markdown",
   "metadata": {},
   "source": [
    "# Example 2\n",
    "​\n",
    "**Hand's on time!**\n",
    "​\n",
    "\n",
    "The dataset has been downloaded and converted into a pandas data frame. Follow the instructions and fill in the missing lines of code to get the results."
   ]
  },
  {
   "cell_type": "code",
   "execution_count": 21,
   "metadata": {},
   "outputs": [],
   "source": [
    "# A helper function for downloading files using url\n",
    "import requests\n",
    "import os\n",
    "def download(url, local_filename=None):\n",
    "    \"\"\"\n",
    "    Downloads the file in the ``url`` and saves it in the current working directory.\n",
    "    \"\"\"\n",
    "    data = requests.get(url)\n",
    "    if local_filename is None:\n",
    "        local_filename = os.path.basename(url)\n",
    "    with open(local_filename, 'wb') as fd:\n",
    "        fd.write(data.content)"
   ]
  },
  {
   "cell_type": "code",
   "execution_count": 22,
   "metadata": {},
   "outputs": [
    {
     "data": {
      "text/html": [
       "<div>\n",
       "<style scoped>\n",
       "    .dataframe tbody tr th:only-of-type {\n",
       "        vertical-align: middle;\n",
       "    }\n",
       "\n",
       "    .dataframe tbody tr th {\n",
       "        vertical-align: top;\n",
       "    }\n",
       "\n",
       "    .dataframe thead th {\n",
       "        text-align: right;\n",
       "    }\n",
       "</style>\n",
       "<table border=\"1\" class=\"dataframe\">\n",
       "  <thead>\n",
       "    <tr style=\"text-align: right;\">\n",
       "      <th></th>\n",
       "      <th>mpg</th>\n",
       "      <th>cyl</th>\n",
       "      <th>disp</th>\n",
       "      <th>hp</th>\n",
       "      <th>drat</th>\n",
       "      <th>wt</th>\n",
       "      <th>qsec</th>\n",
       "      <th>vs</th>\n",
       "      <th>am</th>\n",
       "      <th>gear</th>\n",
       "      <th>carb</th>\n",
       "    </tr>\n",
       "    <tr>\n",
       "      <th>model</th>\n",
       "      <th></th>\n",
       "      <th></th>\n",
       "      <th></th>\n",
       "      <th></th>\n",
       "      <th></th>\n",
       "      <th></th>\n",
       "      <th></th>\n",
       "      <th></th>\n",
       "      <th></th>\n",
       "      <th></th>\n",
       "      <th></th>\n",
       "    </tr>\n",
       "  </thead>\n",
       "  <tbody>\n",
       "    <tr>\n",
       "      <th>Mazda RX4</th>\n",
       "      <td>21.0</td>\n",
       "      <td>6</td>\n",
       "      <td>160.0</td>\n",
       "      <td>110</td>\n",
       "      <td>3.90</td>\n",
       "      <td>2.620</td>\n",
       "      <td>16.46</td>\n",
       "      <td>0</td>\n",
       "      <td>1</td>\n",
       "      <td>4</td>\n",
       "      <td>4</td>\n",
       "    </tr>\n",
       "    <tr>\n",
       "      <th>Mazda RX4 Wag</th>\n",
       "      <td>21.0</td>\n",
       "      <td>6</td>\n",
       "      <td>160.0</td>\n",
       "      <td>110</td>\n",
       "      <td>3.90</td>\n",
       "      <td>2.875</td>\n",
       "      <td>17.02</td>\n",
       "      <td>0</td>\n",
       "      <td>1</td>\n",
       "      <td>4</td>\n",
       "      <td>4</td>\n",
       "    </tr>\n",
       "    <tr>\n",
       "      <th>Datsun 710</th>\n",
       "      <td>22.8</td>\n",
       "      <td>4</td>\n",
       "      <td>108.0</td>\n",
       "      <td>93</td>\n",
       "      <td>3.85</td>\n",
       "      <td>2.320</td>\n",
       "      <td>18.61</td>\n",
       "      <td>1</td>\n",
       "      <td>1</td>\n",
       "      <td>4</td>\n",
       "      <td>1</td>\n",
       "    </tr>\n",
       "    <tr>\n",
       "      <th>Hornet 4 Drive</th>\n",
       "      <td>21.4</td>\n",
       "      <td>6</td>\n",
       "      <td>258.0</td>\n",
       "      <td>110</td>\n",
       "      <td>3.08</td>\n",
       "      <td>3.215</td>\n",
       "      <td>19.44</td>\n",
       "      <td>1</td>\n",
       "      <td>0</td>\n",
       "      <td>3</td>\n",
       "      <td>1</td>\n",
       "    </tr>\n",
       "    <tr>\n",
       "      <th>Hornet Sportabout</th>\n",
       "      <td>18.7</td>\n",
       "      <td>8</td>\n",
       "      <td>360.0</td>\n",
       "      <td>175</td>\n",
       "      <td>3.15</td>\n",
       "      <td>3.440</td>\n",
       "      <td>17.02</td>\n",
       "      <td>0</td>\n",
       "      <td>0</td>\n",
       "      <td>3</td>\n",
       "      <td>2</td>\n",
       "    </tr>\n",
       "  </tbody>\n",
       "</table>\n",
       "</div>"
      ],
      "text/plain": [
       "                    mpg  cyl   disp   hp  drat     wt   qsec  vs  am  gear  \\\n",
       "model                                                                        \n",
       "Mazda RX4          21.0    6  160.0  110  3.90  2.620  16.46   0   1     4   \n",
       "Mazda RX4 Wag      21.0    6  160.0  110  3.90  2.875  17.02   0   1     4   \n",
       "Datsun 710         22.8    4  108.0   93  3.85  2.320  18.61   1   1     4   \n",
       "Hornet 4 Drive     21.4    6  258.0  110  3.08  3.215  19.44   1   0     3   \n",
       "Hornet Sportabout  18.7    8  360.0  175  3.15  3.440  17.02   0   0     3   \n",
       "\n",
       "                   carb  \n",
       "model                    \n",
       "Mazda RX4             4  \n",
       "Mazda RX4 Wag         4  \n",
       "Datsun 710            1  \n",
       "Hornet 4 Drive        1  \n",
       "Hornet Sportabout     2  "
      ]
     },
     "execution_count": 22,
     "metadata": {},
     "output_type": "execute_result"
    }
   ],
   "source": [
    "# download data\n",
    "url='https://gist.githubusercontent.com/seankross/a412dfbd88b3db70b74b/raw/5f23f993cd87c283ce766e7ac6b329ee7cc2e1d1/mtcars.csv'\n",
    "download(url)\n",
    "\n",
    "# loading the data into a pandas dataframe\n",
    "data_df= pd.read_csv('mtcars.csv',index_col='model')\n",
    "data_df.head()"
   ]
  },
  {
   "cell_type": "code",
   "execution_count": 23,
   "metadata": {},
   "outputs": [
    {
     "name": "stdout",
     "output_type": "stream",
     "text": [
      "<class 'pandas.core.frame.DataFrame'>\n",
      "Index: 32 entries, Mazda RX4 to Volvo 142E\n",
      "Data columns (total 11 columns):\n",
      " #   Column  Non-Null Count  Dtype  \n",
      "---  ------  --------------  -----  \n",
      " 0   mpg     32 non-null     float64\n",
      " 1   cyl     32 non-null     int64  \n",
      " 2   disp    32 non-null     float64\n",
      " 3   hp      32 non-null     int64  \n",
      " 4   drat    32 non-null     float64\n",
      " 5   wt      32 non-null     float64\n",
      " 6   qsec    32 non-null     float64\n",
      " 7   vs      32 non-null     int64  \n",
      " 8   am      32 non-null     int64  \n",
      " 9   gear    32 non-null     int64  \n",
      " 10  carb    32 non-null     int64  \n",
      "dtypes: float64(5), int64(6)\n",
      "memory usage: 2.9+ KB\n"
     ]
    }
   ],
   "source": [
    "data_df.info()"
   ]
  },
  {
   "cell_type": "markdown",
   "metadata": {},
   "source": [
    "Separate the feature set and target.\n",
    "\n",
    "\n",
    "**The feature should consist of all columns except the column 'mpg'.**\n",
    "\n",
    "\n",
    "**The target column is 'mpg'.**"
   ]
  },
  {
   "cell_type": "code",
   "execution_count": null,
   "metadata": {},
   "outputs": [],
   "source": [
    "# separating the independent and dependent variables\n",
    "x=<<'your code here'>>\n",
    "y=<<'your code here'>>"
   ]
  },
  {
   "cell_type": "code",
   "execution_count": null,
   "metadata": {},
   "outputs": [],
   "source": [
    "# standardize the data\n",
    "scaler=preprocessing.StandardScaler()\n",
    "x_scaled=scaler.fit_transform(x)\n",
    "y_scaled=scaler.fit_transform(y<<'your code here'>>) # you need to reshape the variable y for it to be suitable for tansformation"
   ]
  },
  {
   "cell_type": "markdown",
   "metadata": {},
   "source": [
    "**Split the dataset into train and test in the ratio 70:30.**"
   ]
  },
  {
   "cell_type": "code",
   "execution_count": null,
   "metadata": {},
   "outputs": [],
   "source": [
    "# train/test split\n",
    "x_train, x_test, y_train, y_test = train_test_split(<<'your code here'>>, y_scaled.flatten(), test_size=<<'your code here'>>, random_state=10)"
   ]
  },
  {
   "cell_type": "code",
   "execution_count": null,
   "metadata": {},
   "outputs": [],
   "source": [
    "print(x_train.shape)\n",
    "print(y_train.shape)\n",
    "print(x_test.shape)\n",
    "print(y_test.shape)"
   ]
  },
  {
   "cell_type": "markdown",
   "metadata": {},
   "source": [
    "The result of the above cell should be the following:\n",
    "    \n",
    "    \n",
    "    (22, 10)       \n",
    "    (22,)        \n",
    "    (10, 10)       \n",
    "    (10,)"
   ]
  },
  {
   "cell_type": "markdown",
   "metadata": {},
   "source": [
    "# Linear Regression "
   ]
  },
  {
   "cell_type": "code",
   "execution_count": null,
   "metadata": {},
   "outputs": [],
   "source": [
    "# create an object of LinearRegression class\n",
    "lin_reg=LinearRegression()\n",
    "# fit the model on training data\n",
    "lin_reg.fit(x_train,y_train)\n",
    "# predict y_test using the trained model\n",
    "y_pred=lin_reg.predict(<<'your code here'>>)\n",
    "\n",
    "\n",
    "# calculate mse and r2 score\n",
    "lin2_mse,lin2_r2=performance_measure(y_test,<<'your code here'>>)\n",
    "print('Mean Squared Error :',round(lin2_mse,4))\n",
    "print('R^2 Score :',round(lin2_r2,4))"
   ]
  },
  {
   "cell_type": "markdown",
   "metadata": {},
   "source": [
    "The expected output from the above cell should  be:\n",
    "    \n",
    "    \n",
    "Mean Squared Error : 0.52\n",
    "\n",
    "\n",
    "R^2 Score : -0.8419\n",
    "\n",
    "\n",
    "**Note: The value of the output may vary slightly due to running the code on a different system but that's okay.**\n",
    "\n",
    "Also, the negative value of the r^2 score suggests that the model has a very poor fit."
   ]
  },
  {
   "cell_type": "code",
   "execution_count": null,
   "metadata": {},
   "outputs": [],
   "source": [
    "# Visualising the variable coefficients using a bar graph.\n",
    "col=['cyl','disp','hp','drat','wt','qsec','vs','am','gear','carb']\n",
    "coef = pd.Series(lin_reg.coef_,col).sort_values()\n",
    "plt.figure(figsize=(14,7))\n",
    "coef.plot(kind='bar', title='Variable Coefficients')\n",
    "plt.show()"
   ]
  },
  {
   "cell_type": "markdown",
   "metadata": {},
   "source": [
    "# Lasso Regression"
   ]
  },
  {
   "cell_type": "code",
   "execution_count": null,
   "metadata": {},
   "outputs": [],
   "source": [
    "# creating an object of Lasso class and then performing Lasso regression for various values of alpha\n",
    "lasso_reg2 = Lasso(alpha=1)\n",
    "lasso_reg2.fit(x_train, y_train)\n",
    "lasso_df2 = pd.DataFrame({'variable': ['cyl','disp','hp','drat','wt','qsec','vs','am','gear','carb'] , 'estimate': lasso_reg2.coef_})\n",
    "lasso_train_pred2 = []\n",
    "lasso_test_pred2 = []\n",
    "\n",
    "alphas = np.arange(0.01, 4.01, 0.04)\n",
    "\n",
    "for alpha in alphas:\n",
    "    lasso_reg = Lasso(alpha=alpha)\n",
    "    lasso_reg.fit(x_train, y_train)\n",
    "    var_name = 'estimate' + str(alpha)\n",
    "    lasso_df2[var_name] = lasso_reg.coef_\n",
    "    # prediction\n",
    "    lasso_train_pred2.append(lasso_reg.predict(x_train))\n",
    "    lasso_test_pred2.append(lasso_reg.predict(x_test))\n",
    "\n",
    "lasso_df2 = lasso_df2.set_index('variable').T.rename_axis('estimate').rename_axis(None, axis=1).reset_index()\n",
    "\n",
    "fig, ax = plt.subplots(figsize=(14, 13))\n",
    "\n",
    "ax.plot(lasso_df2.cyl,'b', lasso_df2.disp,'g', lasso_df2.hp,'r', lasso_df2.drat,'c', lasso_df2.wt,'brown', lasso_df2.qsec,'y', \n",
    "        lasso_df2.vs,'k', lasso_df2.am,'coral', lasso_df2.gear,'lime', lasso_df2.carb,'slategray')\n",
    "ax.set_xlabel(\"Alpha\")\n",
    "ax.set_xticklabels(np.arange(-1, 10, 1))\n",
    "ax.set_ylabel(\"Beta Estimate\")\n",
    "ax.set_title(\"Lasso Regression Trace\", fontsize=16)\n",
    "ax.legend(labels=['cyl','disp','hp','drat','wt','qsec','vs','am','gear','carb'] ,loc='upper right')\n",
    "ax.grid(True)"
   ]
  },
  {
   "cell_type": "code",
   "execution_count": null,
   "metadata": {},
   "outputs": [],
   "source": [
    "param = {'alpha': np.arange(0.01, 10, 0.01)}\n",
    "\n",
    "lasso_reg2 = GridSearchCV(Lasso(), param)\n",
    "lasso_reg2.fit(x_train, y_train)\n",
    "lasso_pred = lasso_reg2.predict(x_test)\n",
    "\n",
    "print(lasso_reg2.best_estimator_)\n",
    "print(\"\\nR-Squared:\", round(r2_score(y_test, lasso_pred), 4))\n",
    "print(\"MSE:\", round(mean_squared_error(y_test, lasso_pred), 4))"
   ]
  },
  {
   "cell_type": "code",
   "execution_count": null,
   "metadata": {},
   "outputs": [],
   "source": [
    "# Performing lasso regression with alpha obtained in the previous cell\n",
    "lasso_reg2 = Lasso(alpha=<<'your code here'>>)\n",
    "lasso_reg2.fit(x_train, y_train)\n",
    "y_pred=lasso_reg2.predict(x_test)\n",
    "\n",
    "lasso_mse,lasso_r2=performance_measure(y_test,y_pred)\n",
    "print('Mean Squared Error :',round(<<'your code here'>>,4))\n",
    "print('R^2 Score :',round(lasso_r2,4))"
   ]
  },
  {
   "cell_type": "code",
   "execution_count": null,
   "metadata": {},
   "outputs": [],
   "source": [
    "# creating a dataframe to display the variables along with their coefficients \n",
    "pd.DataFrame({'variable':['cyl','disp','hp','drat','wt','qsec','vs','am','gear','carb']  , 'coefficient': lasso_reg2.coef_})"
   ]
  },
  {
   "cell_type": "code",
   "execution_count": null,
   "metadata": {},
   "outputs": [],
   "source": [
    "# Visualising the variable coefficients using a bar graph.\n",
    "col=['cyl','disp','hp','drat','wt','qsec','vs','am','gear','carb']\n",
    "coef = pd.Series(lasso_reg2.coef_,col).sort_values()\n",
    "plt.figure(figsize=(14,7))\n",
    "coef.plot(kind='bar', title='Variable Coefficients')\n",
    "plt.show()"
   ]
  },
  {
   "cell_type": "markdown",
   "metadata": {},
   "source": [
    "You can see that this time for this dataset their is a more prominent difference in the results of the two regression techniques. Here, 4 out of 10 features have been dropped to reduce the complexity of the model.You can see that this time for this dataset there is a more prominent difference in the results of the two regression techniques."
   ]
  },
  {
   "cell_type": "code",
   "execution_count": null,
   "metadata": {},
   "outputs": [],
   "source": []
  }
 ],
 "metadata": {
  "kernelspec": {
   "display_name": "Python 3",
   "language": "python",
   "name": "python3"
  },
  "language_info": {
   "codemirror_mode": {
    "name": "ipython",
    "version": 3
   },
   "file_extension": ".py",
   "mimetype": "text/x-python",
   "name": "python",
   "nbconvert_exporter": "python",
   "pygments_lexer": "ipython3",
   "version": "3.7.4"
  }
 },
 "nbformat": 4,
 "nbformat_minor": 2
}
